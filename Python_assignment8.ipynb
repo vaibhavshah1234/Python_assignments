{
  "nbformat": 4,
  "nbformat_minor": 0,
  "metadata": {
    "colab": {
      "name": "Python_assignment8.ipynb",
      "provenance": [],
      "collapsed_sections": []
    },
    "kernelspec": {
      "name": "python3",
      "display_name": "Python 3"
    }
  },
  "cells": [
    {
      "cell_type": "markdown",
      "metadata": {
        "id": "63WMfSW5EecL",
        "colab_type": "text"
      },
      "source": [
        "## 1.program to calculate the length of a string"
      ]
    },
    {
      "cell_type": "code",
      "metadata": {
        "id": "qmlriQsyBoet",
        "colab_type": "code",
        "colab": {
          "base_uri": "https://localhost:8080/",
          "height": 50
        },
        "outputId": "42d4ff45-8c13-414a-dfb5-e49b28860836"
      },
      "source": [
        "string=input(\"enter a string:\")\n",
        "length=len(string)\n",
        "print(\"the length of\",string,\"is\",length)"
      ],
      "execution_count": 1,
      "outputs": [
        {
          "output_type": "stream",
          "text": [
            "enter a string:aishu\n",
            "the length of aishu is 5\n"
          ],
          "name": "stdout"
        }
      ]
    },
    {
      "cell_type": "markdown",
      "metadata": {
        "id": "PPu9UYbBG4vX",
        "colab_type": "text"
      },
      "source": [
        "## 2.program to find the character freuency in a string"
      ]
    },
    {
      "cell_type": "code",
      "metadata": {
        "id": "gmsrSHecHLsI",
        "colab_type": "code",
        "colab": {
          "base_uri": "https://localhost:8080/",
          "height": 50
        },
        "outputId": "a6992f4f-a95b-413a-9037-a422a1314dc9"
      },
      "source": [
        "string=input(\"enter a string:\")\n",
        "frequency={}\n",
        "for i in string:\n",
        "  if i in frequency:\n",
        "    frequency[i]+=1\n",
        "  else:\n",
        "    frequency[i]=1\n",
        "print(\"character frequency\",string,\"is:\",frequency)"
      ],
      "execution_count": 2,
      "outputs": [
        {
          "output_type": "stream",
          "text": [
            "enter a string:aishwarya\n",
            "character frequency aishwarya is: {'a': 3, 'i': 1, 's': 1, 'h': 1, 'w': 1, 'r': 1, 'y': 1}\n"
          ],
          "name": "stdout"
        }
      ]
    },
    {
      "cell_type": "markdown",
      "metadata": {
        "id": "KmKHV5HWIMkv",
        "colab_type": "text"
      },
      "source": [
        "## 3.program to get a single string from two given strings, seperated by a space nd swap the 1st character of each string"
      ]
    },
    {
      "cell_type": "code",
      "metadata": {
        "id": "AOM29tMuJMJ5",
        "colab_type": "code",
        "colab": {
          "base_uri": "https://localhost:8080/",
          "height": 84
        },
        "outputId": "cf18a4cd-c5fb-4790-b82c-9b954fcff5ec"
      },
      "source": [
        "str1= input(\"enter the string: \")\n",
        "str2= input(\"enter the second string: \")\n",
        "str1_swap= str2[:1]+str1[1:]\n",
        "str2_swap= str1[:1]+str2[1:]\n",
        "print(str1_swap)\n",
        "print(str2_swap)"
      ],
      "execution_count": 4,
      "outputs": [
        {
          "output_type": "stream",
          "text": [
            "enter the string: ice\n",
            "enter the second string: bun\n",
            "bce\n",
            "iun\n"
          ],
          "name": "stdout"
        }
      ]
    },
    {
      "cell_type": "markdown",
      "metadata": {
        "id": "h-gryO8qLzDv",
        "colab_type": "text"
      },
      "source": [
        "## 4.take input from the user and displays that input back in upper and lower cases"
      ]
    },
    {
      "cell_type": "code",
      "metadata": {
        "id": "GBsg5FcGMJPs",
        "colab_type": "code",
        "colab": {
          "base_uri": "https://localhost:8080/",
          "height": 50
        },
        "outputId": "50316784-2104-43ff-d7cd-386410ae844e"
      },
      "source": [
        "string= input(\"enter a string:\")\n",
        "upper_case=string.upper()\n",
        "lower_case=string.lower()\n",
        "print(\"the string\",string,\"in upper case is\",upper_case,\"and in lower case is\",lower_case)"
      ],
      "execution_count": 5,
      "outputs": [
        {
          "output_type": "stream",
          "text": [
            "enter a string:aishu\n",
            "the string aishu in upper case is AISHU and in lower case is aishu\n"
          ],
          "name": "stdout"
        }
      ]
    },
    {
      "cell_type": "markdown",
      "metadata": {
        "id": "E3_S7AZbMuot",
        "colab_type": "text"
      },
      "source": [
        "## 5.program to remove a new line"
      ]
    },
    {
      "cell_type": "code",
      "metadata": {
        "id": "ryLqg8GHM5v4",
        "colab_type": "code",
        "colab": {
          "base_uri": "https://localhost:8080/",
          "height": 35
        },
        "outputId": "8bcc64ce-285c-4811-805c-af2603298c4a"
      },
      "source": [
        "string= \"aishu\\n\"\n",
        "string.rstrip('\\n')"
      ],
      "execution_count": 7,
      "outputs": [
        {
          "output_type": "execute_result",
          "data": {
            "application/vnd.google.colaboratory.intrinsic": {
              "type": "string"
            },
            "text/plain": [
              "'aishu'"
            ]
          },
          "metadata": {
            "tags": []
          },
          "execution_count": 7
        }
      ]
    },
    {
      "cell_type": "markdown",
      "metadata": {
        "id": "RPXfZCfeNJeW",
        "colab_type": "text"
      },
      "source": [
        "## 6.program to count occurences of a substring in a string"
      ]
    },
    {
      "cell_type": "code",
      "metadata": {
        "id": "TiwPq97kO-6g",
        "colab_type": "code",
        "colab": {
          "base_uri": "https://localhost:8080/",
          "height": 67
        },
        "outputId": "1a312654-fd10-4926-ec4a-d2a49fc34959"
      },
      "source": [
        "string= input(\"enter a string: \")\n",
        "substr= input(\"enter a substring present in the string: \")\n",
        "string.count(substr)"
      ],
      "execution_count": 8,
      "outputs": [
        {
          "output_type": "stream",
          "text": [
            "enter a string: aishu\n",
            "enter a substring present in the string: sh\n"
          ],
          "name": "stdout"
        },
        {
          "output_type": "execute_result",
          "data": {
            "text/plain": [
              "1"
            ]
          },
          "metadata": {
            "tags": []
          },
          "execution_count": 8
        }
      ]
    },
    {
      "cell_type": "markdown",
      "metadata": {
        "id": "brOR2V24PyN8",
        "colab_type": "text"
      },
      "source": [
        "## 7.program to convert a string in a list"
      ]
    },
    {
      "cell_type": "code",
      "metadata": {
        "id": "alTzj-KgP3KQ",
        "colab_type": "code",
        "colab": {
          "base_uri": "https://localhost:8080/",
          "height": 50
        },
        "outputId": "d35def87-56f4-4d9f-e21f-c2a24f56c7b5"
      },
      "source": [
        "string=input(\"enter a string:\")\n",
        "mylist=list(string)\n",
        "print(\"converted list is\",mylist)"
      ],
      "execution_count": 9,
      "outputs": [
        {
          "output_type": "stream",
          "text": [
            "enter a string:icecream\n",
            "converted list is ['i', 'c', 'e', 'c', 'r', 'e', 'a', 'm']\n"
          ],
          "name": "stdout"
        }
      ]
    },
    {
      "cell_type": "markdown",
      "metadata": {
        "id": "4uei19isQKHy",
        "colab_type": "text"
      },
      "source": [
        "## 8.program to delete a character"
      ]
    },
    {
      "cell_type": "code",
      "metadata": {
        "id": "TSuvmHZAQTNK",
        "colab_type": "code",
        "colab": {
          "base_uri": "https://localhost:8080/",
          "height": 84
        },
        "outputId": "896f4146-6dd0-4aaa-a446-2441edde20ed"
      },
      "source": [
        "string=input(\"enter a string:\")\n",
        "char=input(\"enter the character to delete:\")\n",
        "print(\"the result string is\",string.replace(char,\"\"))\n",
        "print(\"the deleted char is\",char,\".\")"
      ],
      "execution_count": 10,
      "outputs": [
        {
          "output_type": "stream",
          "text": [
            "enter a string:bun\n",
            "enter the character to delete:u\n",
            "the result string is bn\n",
            "the deleted char is u .\n"
          ],
          "name": "stdout"
        }
      ]
    },
    {
      "cell_type": "markdown",
      "metadata": {
        "id": "Vs6KIcp7RiOU",
        "colab_type": "text"
      },
      "source": [
        "## 9.program to print every character of a string entered by user in a new line using loop"
      ]
    },
    {
      "cell_type": "code",
      "metadata": {
        "id": "yZlmHgOKRuwN",
        "colab_type": "code",
        "colab": {
          "base_uri": "https://localhost:8080/",
          "height": 150
        },
        "outputId": "42584749-2f51-4b0c-81e3-cb14812817a3"
      },
      "source": [
        "string=input(\"enter a string:\")\n",
        "print(\"character in the string\",string,\"are:\")\n",
        "for i in string:\n",
        "  print(i)"
      ],
      "execution_count": 11,
      "outputs": [
        {
          "output_type": "stream",
          "text": [
            "enter a string:icebun\n",
            "character in the string icebun are:\n",
            "i\n",
            "c\n",
            "e\n",
            "b\n",
            "u\n",
            "n\n"
          ],
          "name": "stdout"
        }
      ]
    },
    {
      "cell_type": "markdown",
      "metadata": {
        "id": "nujxVXJRSEc0",
        "colab_type": "text"
      },
      "source": [
        "## 10.program to find the length of a string \"refrigerator\" without using len function "
      ]
    },
    {
      "cell_type": "code",
      "metadata": {
        "id": "9zY5b6SIS88j",
        "colab_type": "code",
        "colab": {
          "base_uri": "https://localhost:8080/",
          "height": 33
        },
        "outputId": "5b456847-958d-4110-cfe5-dd4889448b4a"
      },
      "source": [
        "string=\"refrigirator\"\n",
        "length=0\n",
        "for i in string:\n",
        "  length+=1\n",
        "print(\"the length of the string\",string,\"is:\",length)"
      ],
      "execution_count": 12,
      "outputs": [
        {
          "output_type": "stream",
          "text": [
            "the length of the string refrigirator is: 12\n"
          ],
          "name": "stdout"
        }
      ]
    }
  ]
}