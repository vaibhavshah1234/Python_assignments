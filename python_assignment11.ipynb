{
  "nbformat": 4,
  "nbformat_minor": 0,
  "metadata": {
    "colab": {
      "name": "python_assignment11.ipynb",
      "provenance": []
    },
    "kernelspec": {
      "name": "python3",
      "display_name": "Python 3"
    }
  },
  "cells": [
    {
      "cell_type": "markdown",
      "metadata": {
        "id": "zhtizKM2zHAL",
        "colab_type": "text"
      },
      "source": [
        "## 1.write a python program to read an entire text file"
      ]
    },
    {
      "cell_type": "code",
      "metadata": {
        "id": "ReXA997Oz3ls",
        "colab_type": "code",
        "colab": {}
      },
      "source": [
        "f=open(\"python.txt\",\"w\")\n",
        "f.close()"
      ],
      "execution_count": null,
      "outputs": []
    },
    {
      "cell_type": "code",
      "metadata": {
        "id": "eEDcWh9H0rMu",
        "colab_type": "code",
        "colab": {}
      },
      "source": [
        "f=open(\"python1.txt\",\"w\")\n",
        "f.write(\"hey how do you do\")\n",
        "f.close()"
      ],
      "execution_count": null,
      "outputs": []
    },
    {
      "cell_type": "code",
      "metadata": {
        "id": "3hNjxMyk1Owg",
        "colab_type": "code",
        "colab": {
          "base_uri": "https://localhost:8080/",
          "height": 34
        },
        "outputId": "3f709717-8011-4d39-aef7-330b0f7ae50c"
      },
      "source": [
        "f=open(\"python1.txt\",\"r\")\n",
        "str=f.read()\n",
        "print(str)\n",
        "f.close()"
      ],
      "execution_count": null,
      "outputs": [
        {
          "output_type": "stream",
          "text": [
            "hey how do you do\n"
          ],
          "name": "stdout"
        }
      ]
    },
    {
      "cell_type": "markdown",
      "metadata": {
        "id": "kYcrkqG11ikO",
        "colab_type": "text"
      },
      "source": [
        "## 2.write a python program to read first n lines of a file"
      ]
    },
    {
      "cell_type": "code",
      "metadata": {
        "id": "f_yZuwdRAi2K",
        "colab_type": "code",
        "colab": {}
      },
      "source": [
        " a_file=open(\"file_name.txt\",\"w\")\n",
        "f.close()"
      ],
      "execution_count": null,
      "outputs": []
    },
    {
      "cell_type": "code",
      "metadata": {
        "id": "NewolKnWAA4F",
        "colab_type": "code",
        "colab": {
          "base_uri": "https://localhost:8080/",
          "height": 34
        },
        "outputId": "73cc0467-5a24-4b07-f95b-a7e27b93a1f3"
      },
      "source": [
        "a_file = open(\"file_name.txt\")\n",
        "number_of_lines = 3\n",
        "for i in range(number_of_lines):\n",
        "    line = a_file.readline()\n",
        "print(line)"
      ],
      "execution_count": null,
      "outputs": [
        {
          "output_type": "stream",
          "text": [
            "\n"
          ],
          "name": "stdout"
        }
      ]
    },
    {
      "cell_type": "markdown",
      "metadata": {
        "id": "zEikvzWq4PHl",
        "colab_type": "text"
      },
      "source": [
        "## 3. Write a Python program to append text to a file and display the text."
      ]
    },
    {
      "cell_type": "code",
      "metadata": {
        "id": "xOVaAIes5AzW",
        "colab_type": "code",
        "colab": {}
      },
      "source": [
        "f=open(\"python.txt\",\"w\")\n",
        "f.close()"
      ],
      "execution_count": null,
      "outputs": []
    },
    {
      "cell_type": "code",
      "metadata": {
        "id": "K_FtO_Sx5KI1",
        "colab_type": "code",
        "colab": {}
      },
      "source": [
        "f=open(\"python1.txt\",\"w\")\n",
        "f.write(\"hey how do you do\")\n",
        "f.close()"
      ],
      "execution_count": null,
      "outputs": []
    },
    {
      "cell_type": "code",
      "metadata": {
        "id": "E1rUhqa-VZG7",
        "colab_type": "code",
        "colab": {
          "base_uri": "https://localhost:8080/",
          "height": 34
        },
        "outputId": "222337fb-deba-4d2c-8bfe-47f358480b21"
      },
      "source": [
        "f=open(\"python1.txt\",\"r\")\n",
        "print(f.read())\n",
        "f.close()"
      ],
      "execution_count": null,
      "outputs": [
        {
          "output_type": "stream",
          "text": [
            "hey how do you do\n"
          ],
          "name": "stdout"
        }
      ]
    },
    {
      "cell_type": "code",
      "metadata": {
        "id": "HB-FUr825hxD",
        "colab_type": "code",
        "colab": {}
      },
      "source": [
        "f=open(\"python1.txt\",\"a\")\n",
        "s='''am \n",
        "   Fine'''\n",
        "f.write(s)\n",
        "f.close()"
      ],
      "execution_count": null,
      "outputs": []
    },
    {
      "cell_type": "markdown",
      "metadata": {
        "id": "Ibk_ml4J8sZ7",
        "colab_type": "text"
      },
      "source": [
        "## 4.Write a Python program to read last n lines of a file."
      ]
    },
    {
      "cell_type": "code",
      "metadata": {
        "id": "0jr0c8na99PA",
        "colab_type": "code",
        "colab": {
          "base_uri": "https://localhost:8080/",
          "height": 34
        },
        "outputId": "a2cb6182-e775-4bc1-b988-9584479fbf66"
      },
      "source": [
        "def LastNlines(fname, N):\n",
        "  with open(fname) as file:\n",
        "    for line in (file.readlines() [-N:]):\n",
        "      print(line, end ='')\n",
        "if __name__ == '__main__':\n",
        "  fname = 'File1.txt'\n",
        "  N = 3\n",
        "  try:\n",
        "   LastNlines(fname, N) \n",
        "  except:\n",
        "   print('File not found')"
      ],
      "execution_count": null,
      "outputs": [
        {
          "output_type": "stream",
          "text": [
            "File not found\n"
          ],
          "name": "stdout"
        }
      ]
    },
    {
      "cell_type": "markdown",
      "metadata": {
        "id": "O4i2hOhgBFxo",
        "colab_type": "text"
      },
      "source": [
        "## 5.Write a Python program to read a file line by line store it into a variable."
      ]
    },
    {
      "cell_type": "code",
      "metadata": {
        "id": "WOSQre2QJWA0",
        "colab_type": "code",
        "colab": {}
      },
      "source": [
        " f1=open(\"test.txt\",\"w\")\n",
        "f.close()"
      ],
      "execution_count": null,
      "outputs": []
    },
    {
      "cell_type": "code",
      "metadata": {
        "id": "5Ia5UjDKJa8R",
        "colab_type": "code",
        "colab": {}
      },
      "source": [
        "f1=open(\"test1.txt\",\"w\")\n",
        "f1.write(\"hi\")\n",
        "f.close()"
      ],
      "execution_count": null,
      "outputs": []
    },
    {
      "cell_type": "code",
      "metadata": {
        "id": "CKs_B3NLKr6W",
        "colab_type": "code",
        "colab": {
          "base_uri": "https://localhost:8080/",
          "height": 34
        },
        "outputId": "ebd8ae2e-f2f5-4922-8784-10e71c0f0631"
      },
      "source": [
        " f1=open('test1.txt').readlines()\n",
        "print(f1)"
      ],
      "execution_count": null,
      "outputs": [
        {
          "output_type": "stream",
          "text": [
            "['hi']\n"
          ],
          "name": "stdout"
        }
      ]
    },
    {
      "cell_type": "markdown",
      "metadata": {
        "id": "nMANQb92FeA7",
        "colab_type": "text"
      },
      "source": [
        "## 6.write a program to read a file line by line store it into a list"
      ]
    },
    {
      "cell_type": "code",
      "metadata": {
        "id": "XAFAmdZiHVg7",
        "colab_type": "code",
        "colab": {}
      },
      "source": [
        "infile=open(\"test.txt\",\"w\")\n",
        "f.close()"
      ],
      "execution_count": null,
      "outputs": []
    },
    {
      "cell_type": "code",
      "metadata": {
        "id": "VKfN5xzxH38F",
        "colab_type": "code",
        "colab": {}
      },
      "source": [
        "infile=open(\"test1.txt\",\"w\")\n",
        "infile.write(\"hello\")\n",
        "f.close()"
      ],
      "execution_count": null,
      "outputs": []
    },
    {
      "cell_type": "code",
      "metadata": {
        "id": "lxMaBVQKG8z3",
        "colab_type": "code",
        "colab": {
          "base_uri": "https://localhost:8080/",
          "height": 34
        },
        "outputId": "4b1b05b2-8b97-4b6f-ac82-84208bd7b8e4"
      },
      "source": [
        "infile = \"test1.txt\"\n",
        "content_list = open(infile).readlines()\n",
        "print (content_list)"
      ],
      "execution_count": null,
      "outputs": [
        {
          "output_type": "stream",
          "text": [
            "['hello']\n"
          ],
          "name": "stdout"
        }
      ]
    },
    {
      "cell_type": "markdown",
      "metadata": {
        "id": "_vxiLh2aLM6w",
        "colab_type": "text"
      },
      "source": [
        "## 7.write a python program to read a file line by line store it into a array."
      ]
    },
    {
      "cell_type": "code",
      "metadata": {
        "id": "FUqrtvI_LiGN",
        "colab_type": "code",
        "colab": {}
      },
      "source": [
        "f2=open(\"test1.txt\",\"w\")\n",
        "f.close()"
      ],
      "execution_count": null,
      "outputs": []
    },
    {
      "cell_type": "code",
      "metadata": {
        "id": "rL8j2tR4LvZ-",
        "colab_type": "code",
        "colab": {}
      },
      "source": [
        "f2=open(\"test1.txt\",\"w\")\n",
        "s='''how\n",
        "     are\n",
        "     You'''\n",
        "f2.write(s)\n",
        "f.close()"
      ],
      "execution_count": null,
      "outputs": []
    },
    {
      "cell_type": "code",
      "metadata": {
        "id": "Cx7LGpLNL-lC",
        "colab_type": "code",
        "colab": {
          "base_uri": "https://localhost:8080/",
          "height": 54
        },
        "outputId": "33fbb8e0-0a3e-4591-8b19-fe84a590e968"
      },
      "source": [
        "f2=(\"test1.txt\")\n",
        "content_array=open(f2).readlines()\n",
        "print(content_array)"
      ],
      "execution_count": null,
      "outputs": [
        {
          "output_type": "stream",
          "text": [
            "['how\\n', '     are\\n', '     You']\n"
          ],
          "name": "stdout"
        }
      ]
    },
    {
      "cell_type": "markdown",
      "metadata": {
        "id": "Qth9FtApNgnD",
        "colab_type": "text"
      },
      "source": [
        "## 8.Write a Python program to count the number of lines in a text file."
      ]
    },
    {
      "cell_type": "code",
      "metadata": {
        "id": "6go7XS7mNpXI",
        "colab_type": "code",
        "colab": {}
      },
      "source": [
        "f3=open(\"file.txt\",\"w\")\n",
        "f3.close()"
      ],
      "execution_count": null,
      "outputs": []
    },
    {
      "cell_type": "code",
      "metadata": {
        "id": "W84Fl7epORHl",
        "colab_type": "code",
        "colab": {}
      },
      "source": [
        "f3=open(\"file.txt\",\"w\")\n",
        "s='''i\n",
        "     love to\n",
        "     Code'''\n",
        "f3.write(s)\n",
        "f3.close()"
      ],
      "execution_count": null,
      "outputs": []
    },
    {
      "cell_type": "code",
      "metadata": {
        "id": "LcPVHoL4OiJp",
        "colab_type": "code",
        "colab": {
          "base_uri": "https://localhost:8080/",
          "height": 34
        },
        "outputId": "812c66b8-7f9f-4fce-ef73-2aea27c94590"
      },
      "source": [
        "f3=open(\"file.txt\",\"r\")\n",
        "s=f3.read()\n",
        "print(len(s.split('\\n')))\n",
        "f.close()"
      ],
      "execution_count": null,
      "outputs": [
        {
          "output_type": "stream",
          "text": [
            "3\n"
          ],
          "name": "stdout"
        }
      ]
    },
    {
      "cell_type": "markdown",
      "metadata": {
        "id": "wvA9bjdZO7Vk",
        "colab_type": "text"
      },
      "source": [
        "## 9.write a python program to get the file size of a plain file."
      ]
    },
    {
      "cell_type": "code",
      "metadata": {
        "id": "6dr145BDPGke",
        "colab_type": "code",
        "colab": {}
      },
      "source": [
        "file=open(\"test.txt\",\"w\")\n",
        "f.close()"
      ],
      "execution_count": null,
      "outputs": []
    },
    {
      "cell_type": "code",
      "metadata": {
        "id": "uMdWwygTQTn_",
        "colab_type": "code",
        "colab": {}
      },
      "source": [
        "file=open(\"test.txt\",\"w\")\n",
        "file.write(\"good night\")\n",
        "f.close()"
      ],
      "execution_count": null,
      "outputs": []
    },
    {
      "cell_type": "code",
      "metadata": {
        "id": "w6FcHOmrP5fz",
        "colab_type": "code",
        "colab": {
          "base_uri": "https://localhost:8080/",
          "height": 34
        },
        "outputId": "84b41fb0-e4e4-4a63-a651-fbeb7d129a14"
      },
      "source": [
        "import os\n",
        "os.path.getsize(\"test.txt\")"
      ],
      "execution_count": null,
      "outputs": [
        {
          "output_type": "execute_result",
          "data": {
            "text/plain": [
              "10"
            ]
          },
          "metadata": {
            "tags": []
          },
          "execution_count": 135
        }
      ]
    },
    {
      "cell_type": "markdown",
      "metadata": {
        "id": "th4-zPx9Rd_6",
        "colab_type": "text"
      },
      "source": [
        "## 10.write a python program to copy the contents of a file into another."
      ]
    },
    {
      "cell_type": "code",
      "metadata": {
        "id": "imfpXwBCRoLS",
        "colab_type": "code",
        "colab": {}
      },
      "source": [
        "file1=open(\"f1.txt\",\"w\")\n",
        "file1.close()"
      ],
      "execution_count": null,
      "outputs": []
    },
    {
      "cell_type": "code",
      "metadata": {
        "id": "CuWpVWINTcgL",
        "colab_type": "code",
        "colab": {}
      },
      "source": [
        "file1=open(\"f1.txt\",\"w\")\n",
        "s='''welcome \n",
        "     to gitam \n",
        "     University'''\n",
        "file1.write(s)\n",
        "file1.close()"
      ],
      "execution_count": null,
      "outputs": []
    },
    {
      "cell_type": "code",
      "metadata": {
        "id": "OY-Ydw6qT_PK",
        "colab_type": "code",
        "colab": {}
      },
      "source": [
        "file2=open(\"f2.txt\",\"w\")\n",
        "file1=open(\"f1.txt\",\"r\")\n",
        "for line in file1:\n",
        "  file2.write(line)\n",
        "file1.close()\n",
        "file2.close()"
      ],
      "execution_count": null,
      "outputs": []
    }
  ]
}