{
  "nbformat": 4,
  "nbformat_minor": 0,
  "metadata": {
    "colab": {
      "name": "Python_assignment12.ipynb",
      "provenance": []
    },
    "kernelspec": {
      "name": "python3",
      "display_name": "Python 3"
    }
  },
  "cells": [
    {
      "cell_type": "markdown",
      "metadata": {
        "id": "TB9xqIKuaV96",
        "colab_type": "text"
      },
      "source": [
        "## 1.python program to create a tuple"
      ]
    },
    {
      "cell_type": "code",
      "metadata": {
        "id": "ahuWy7jwZe8V",
        "colab_type": "code",
        "colab": {
          "base_uri": "https://localhost:8080/",
          "height": 84
        },
        "outputId": "a7fba405-fefe-48c2-ad7b-22ac79184dbe"
      },
      "source": [
        "my_data = (\"hi\", \"hello\", \"bye\")\n",
        "print(my_data)\n",
        "\n",
        "my_data2 = (1, 2.8, \"Hello World\")\n",
        "print(my_data2)\n",
        "\n",
        "my_data3 = (\"Book\", [1, 2, 3])\n",
        "print(my_data3)\n",
        "\n",
        "my_data4 = ((2, 3, 4), (1, 2, \"hi\"))\n",
        "print(my_data4)\n"
      ],
      "execution_count": 1,
      "outputs": [
        {
          "output_type": "stream",
          "text": [
            "('hi', 'hello', 'bye')\n",
            "(1, 2.8, 'Hello World')\n",
            "('Book', [1, 2, 3])\n",
            "((2, 3, 4), (1, 2, 'hi'))\n"
          ],
          "name": "stdout"
        }
      ]
    },
    {
      "cell_type": "markdown",
      "metadata": {
        "id": "8IPubhUGbDoq",
        "colab_type": "text"
      },
      "source": [
        "## 2.program to create a tuple with different data types"
      ]
    },
    {
      "cell_type": "code",
      "metadata": {
        "id": "vdZNUXBNbY4Y",
        "colab_type": "code",
        "colab": {
          "base_uri": "https://localhost:8080/",
          "height": 33
        },
        "outputId": "9d748568-3ed0-4886-d9b7-7e2c57f73eae"
      },
      "source": [
        "tuplex = (\"tuple\", False, 3.2, 1)\n",
        "print(tuplex)"
      ],
      "execution_count": 2,
      "outputs": [
        {
          "output_type": "stream",
          "text": [
            "('tuple', False, 3.2, 1)\n"
          ],
          "name": "stdout"
        }
      ]
    },
    {
      "cell_type": "markdown",
      "metadata": {
        "id": "C2c8zyqsbgLF",
        "colab_type": "text"
      },
      "source": [
        "## 3.program to convert a tuple to a string"
      ]
    },
    {
      "cell_type": "code",
      "metadata": {
        "id": "kgH0IyVgb23a",
        "colab_type": "code",
        "colab": {
          "base_uri": "https://localhost:8080/",
          "height": 33
        },
        "outputId": "752d0efb-267d-4840-82ad-260fdc268a44"
      },
      "source": [
        "\n",
        "def convertTuple(tup): \n",
        "\tstr = ''.join(tup) \n",
        "\treturn str\n",
        "\n",
        "tuple = ('g', 'e', 'e', 'k', 's') \n",
        "str = convertTuple(tuple) \n",
        "print(str) \n"
      ],
      "execution_count": 3,
      "outputs": [
        {
          "output_type": "stream",
          "text": [
            "geeks\n"
          ],
          "name": "stdout"
        }
      ]
    },
    {
      "cell_type": "markdown",
      "metadata": {
        "id": "BO8n6a9LcE9P",
        "colab_type": "text"
      },
      "source": [
        "## 4.program to slice a tuple"
      ]
    },
    {
      "cell_type": "code",
      "metadata": {
        "id": "5WnpGtwDfsBj",
        "colab_type": "code",
        "colab": {
          "base_uri": "https://localhost:8080/",
          "height": 84
        },
        "outputId": "6009f5aa-5f61-40e0-c4c5-624131b56855"
      },
      "source": [
        "my_tuple = ('a', 'b', 'c', 'd')\n",
        "print(my_tuple[1:]) \n",
        "print(my_tuple[:2])\n",
        "print(my_tuple[1:3]) \n",
        "print(my_tuple[::2])"
      ],
      "execution_count": 7,
      "outputs": [
        {
          "output_type": "stream",
          "text": [
            "('b', 'c', 'd')\n",
            "('a', 'b')\n",
            "('b', 'c')\n",
            "('a', 'c')\n"
          ],
          "name": "stdout"
        }
      ]
    },
    {
      "cell_type": "markdown",
      "metadata": {
        "id": "rPME3cA4cLqq",
        "colab_type": "text"
      },
      "source": [
        "## 5.program to find the length of a tuple"
      ]
    },
    {
      "cell_type": "code",
      "metadata": {
        "id": "0V7WFg5kg287",
        "colab_type": "code",
        "colab": {
          "base_uri": "https://localhost:8080/",
          "height": 33
        },
        "outputId": "be53e1c2-c759-4d36-cd90-e68bfa5da2df"
      },
      "source": [
        "thistuple = (\"apple\", \"banana\", \"cherry\")\n",
        "print(len(thistuple))"
      ],
      "execution_count": 11,
      "outputs": [
        {
          "output_type": "stream",
          "text": [
            "3\n"
          ],
          "name": "stdout"
        }
      ]
    },
    {
      "cell_type": "markdown",
      "metadata": {
        "id": "6xDlYDLgcjv0",
        "colab_type": "text"
      },
      "source": [
        "## 6.program to convert tuple to a dictionary"
      ]
    },
    {
      "cell_type": "code",
      "metadata": {
        "id": "1IG3jv7TcvCt",
        "colab_type": "code",
        "colab": {
          "base_uri": "https://localhost:8080/",
          "height": 33
        },
        "outputId": "8b3f9fca-3326-4997-f1a7-395092c58e34"
      },
      "source": [
        "tuplex = ((2, \"w\"),(3, \"r\"))\n",
        "print(dict((y, x) for x, y in tuplex))"
      ],
      "execution_count": 12,
      "outputs": [
        {
          "output_type": "stream",
          "text": [
            "{'w': 2, 'r': 3}\n"
          ],
          "name": "stdout"
        }
      ]
    },
    {
      "cell_type": "markdown",
      "metadata": {
        "id": "oqJRf9UZcvz2",
        "colab_type": "text"
      },
      "source": [
        "## 7.program to reverse a tuple"
      ]
    },
    {
      "cell_type": "code",
      "metadata": {
        "id": "CppBinN4hR86",
        "colab_type": "code",
        "colab": {
          "base_uri": "https://localhost:8080/",
          "height": 33
        },
        "outputId": "e1a18087-97b7-44c5-e4c3-db5fbb1fe223"
      },
      "source": [
        "my_tuple = (1,2,3.78, 9.56,\"StudyTonight\")\n",
        "my_tuple = my_tuple[::-1]\n",
        "print(my_tuple)"
      ],
      "execution_count": 14,
      "outputs": [
        {
          "output_type": "stream",
          "text": [
            "('StudyTonight', 9.56, 3.78, 2, 1)\n"
          ],
          "name": "stdout"
        }
      ]
    },
    {
      "cell_type": "markdown",
      "metadata": {
        "id": "J3m1eA_6c9K3",
        "colab_type": "text"
      },
      "source": [
        "## 8.program to convert a list of tuples into a dictionary"
      ]
    },
    {
      "cell_type": "code",
      "metadata": {
        "id": "_3NKMNkndQdC",
        "colab_type": "code",
        "colab": {
          "base_uri": "https://localhost:8080/",
          "height": 34
        },
        "outputId": "8b0a2dda-f2b4-4606-f48a-87747bf742bf"
      },
      "source": [
        "\n",
        "l = [(\"x\", 1), (\"x\", 2), (\"x\", 3), (\"y\", 1), (\"y\", 2), (\"z\", 1)]\n",
        "d = {}\n",
        "for a, b in l:\n",
        "    d.setdefault(a, []).append(b)\n",
        "print (d)\n"
      ],
      "execution_count": 15,
      "outputs": [
        {
          "output_type": "stream",
          "text": [
            "{'x': [1, 2, 3], 'y': [1, 2], 'z': [1]}\n"
          ],
          "name": "stdout"
        }
      ]
    },
    {
      "cell_type": "markdown",
      "metadata": {
        "id": "nmBZ55ZsdQ0U",
        "colab_type": "text"
      },
      "source": [
        "## 9.program to convert a list to a tuple"
      ]
    },
    {
      "cell_type": "code",
      "metadata": {
        "id": "lO6wyVjIimqL",
        "colab_type": "code",
        "colab": {
          "base_uri": "https://localhost:8080/",
          "height": 52
        },
        "outputId": "8c603cdc-5da8-4f56-c023-b94a56591d78"
      },
      "source": [
        "list1 = ['aish', 'ice', 'aishu']\n",
        "\n",
        "tuple1 = (*list1,)\n",
        "\n",
        "print(tuple1)\n",
        "print(type(tuple1))"
      ],
      "execution_count": 19,
      "outputs": [
        {
          "output_type": "stream",
          "text": [
            "('aish', 'ice', 'aishu')\n",
            "<class 'tuple'>\n"
          ],
          "name": "stdout"
        }
      ]
    }
  ]
}