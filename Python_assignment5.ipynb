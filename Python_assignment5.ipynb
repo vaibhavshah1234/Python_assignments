{
  "nbformat": 4,
  "nbformat_minor": 0,
  "metadata": {
    "colab": {
      "name": "Python_assignment5.ipynb",
      "provenance": []
    },
    "kernelspec": {
      "name": "python3",
      "display_name": "Python 3"
    }
  },
  "cells": [
    {
      "cell_type": "markdown",
      "metadata": {
        "id": "ZbewgFhVnGQb",
        "colab_type": "text"
      },
      "source": [
        "## 1.write a python program to find area of circle using math function"
      ]
    },
    {
      "cell_type": "code",
      "metadata": {
        "id": "zbivTKudmDA3",
        "colab_type": "code",
        "colab": {
          "base_uri": "https://localhost:8080/",
          "height": 50
        },
        "outputId": "2e824745-3454-48c4-80f3-58bb61613c9b"
      },
      "source": [
        "import math\n",
        "\n",
        "def area_of_circle(r):\n",
        "    a = r**2 * math.pi\n",
        "    return a\n",
        "\n",
        "r = float(input(\"enter the radius of the circle:\"))\n",
        "print(\"%.2f\" %area_of_circle(r))"
      ],
      "execution_count": 1,
      "outputs": [
        {
          "output_type": "stream",
          "text": [
            "enter the radius of the circle:3\n",
            "28.27\n"
          ],
          "name": "stdout"
        }
      ]
    },
    {
      "cell_type": "markdown",
      "metadata": {
        "id": "jEcPcrujoABZ",
        "colab_type": "text"
      },
      "source": [
        "## 2.write a python program to calculate area of regular polygon using math function"
      ]
    },
    {
      "cell_type": "code",
      "metadata": {
        "id": "AMByfNzLo7kP",
        "colab_type": "code",
        "colab": {
          "base_uri": "https://localhost:8080/",
          "height": 67
        },
        "outputId": "89270cf6-9a19-4fd6-8f37-90f88be8d1ab"
      },
      "source": [
        "from math import tan, pi\n",
        "n_sides = int(input(\"input number of sides: \"))\n",
        "s_length = float(input(\"input the length of a side: \"))\n",
        "p_area = n_sides * (s_length **2) / (4 * tan(pi / n_sides))\n",
        "print(\"the area of the polygon is:\",p_area)"
      ],
      "execution_count": 2,
      "outputs": [
        {
          "output_type": "stream",
          "text": [
            "input number of sides: 4\n",
            "input the length of a side: 20\n",
            "the area of the polygon is: 400.00000000000006\n"
          ],
          "name": "stdout"
        }
      ]
    },
    {
      "cell_type": "markdown",
      "metadata": {
        "id": "S9VmB09-pz-s",
        "colab_type": "text"
      },
      "source": [
        "## 3.write a python programto find area of segment of a circle formula using math function"
      ]
    },
    {
      "cell_type": "code",
      "metadata": {
        "id": "xlomdAbTrAUa",
        "colab_type": "code",
        "colab": {
          "base_uri": "https://localhost:8080/",
          "height": 50
        },
        "outputId": "4825d796-59fa-424f-aa4d-ae6e7e2c920d"
      },
      "source": [
        "import math\n",
        "\n",
        "pi = 3.14159\n",
        "\n",
        "def area_of_segment(radius, angle):\n",
        "  area_of_sector = pi * (radius * radius) * (angle / 360)\n",
        "  area_of_triangle = 1/ 2 * (radius * radius) * math.sin((angle * pi) / 180)\n",
        "  return area_of_sector - area_of_triangle;\n",
        "radius = 10.0\n",
        "angle = 90.0\n",
        "print(\"area of minor segment =\", area_of_segment(radius, angle))\n",
        "print(\"area of major segment=\", area_of_segment(radius,(360 - angle)))"
      ],
      "execution_count": 7,
      "outputs": [
        {
          "output_type": "stream",
          "text": [
            "area of minor segment = 28.53975000004401\n",
            "area of major segment= 285.6192499996039\n"
          ],
          "name": "stdout"
        }
      ]
    },
    {
      "cell_type": "markdown",
      "metadata": {
        "id": "wqsFVkebtkkb",
        "colab_type": "text"
      },
      "source": [
        "## 4.write a python pogram to shuffle list l1=[100,1,2,3,30,40,\"hai\",\"hello\"]"
      ]
    },
    {
      "cell_type": "code",
      "metadata": {
        "id": "yc7I4yopvGhR",
        "colab_type": "code",
        "colab": {
          "base_uri": "https://localhost:8080/",
          "height": 50
        },
        "outputId": "b3528207-a3eb-4698-e112-d0cc2016e468"
      },
      "source": [
        "from random import shuffle\n",
        "mylist=[100,1,2,3,30,40,\"hai\",\"hello\"]\n",
        "print(\"list before shuffling:\",mylist)\n",
        "shuffle(mylist)\n",
        "print(\"list after shuffling:\",mylist)"
      ],
      "execution_count": 8,
      "outputs": [
        {
          "output_type": "stream",
          "text": [
            "list before shuffling: [100, 1, 2, 3, 30, 40, 'hai', 'hello']\n",
            "list after shuffling: [2, 100, 'hai', 3, 1, 30, 40, 'hello']\n"
          ],
          "name": "stdout"
        }
      ]
    },
    {
      "cell_type": "markdown",
      "metadata": {
        "id": "lv5ikLQWv36A",
        "colab_type": "text"
      },
      "source": [
        "## 5.write a python program to generate random numbers between 1 and 10,000 and difference between each random number is 50"
      ]
    },
    {
      "cell_type": "code",
      "metadata": {
        "id": "G7Ozx_a0wkQc",
        "colab_type": "code",
        "colab": {
          "base_uri": "https://localhost:8080/",
          "height": 33
        },
        "outputId": "5b2bef27-afc0-4adf-cb82-20643aa2fed4"
      },
      "source": [
        "import random\n",
        "print(\"random number between 1 and 10000 which has a step of 50:\",random.randrange(1,10000,50))"
      ],
      "execution_count": 9,
      "outputs": [
        {
          "output_type": "stream",
          "text": [
            "random number between 1 and 10000 which has a step of 50: 1151\n"
          ],
          "name": "stdout"
        }
      ]
    },
    {
      "cell_type": "markdown",
      "metadata": {
        "id": "Z96cUrcAxBvN",
        "colab_type": "text"
      },
      "source": [
        "## 6.write a python program to find following using math functions:\n",
        "   1.sin60\n",
        "\n",
        "   2.cos(pi)\n",
        "\n",
        "   3.tan 90\n",
        "\n",
        "   4.angle of sin(0.8660254037844386) \n",
        "\n",
        "   5.5^8\n",
        "\n",
        "   6.square root of 400\n",
        "\n",
        "   7.value of 5^e\n",
        "\n",
        "   8.value of log(1024),base 2\n",
        "\n",
        "   9.value of log(1024),base 10\n",
        "   \n",
        "  10.floor and ceiling values of 23.56"
      ]
    },
    {
      "cell_type": "code",
      "metadata": {
        "id": "7X-uzZNjyzoS",
        "colab_type": "code",
        "colab": {
          "base_uri": "https://localhost:8080/",
          "height": 201
        },
        "outputId": "ecb87fa0-f921-443c-dc53-180615e9c469"
      },
      "source": [
        "import math\n",
        "print(\"sine of 60=\",math.sin(60))\n",
        "print(\"cos of pi=\",math.cos(math.pi))\n",
        "print(\"tan of 90=\",math.tan(90))\n",
        "print(\"angle of sin 0.86660254037844386=\",math.sin(0.8660254037844386))\n",
        "print(\"5^8=\",math.pow(5,8))\n",
        "print(\"square root of 400=\",math.sqrt(400))\n",
        "print(\"the value of 5^e=\",math.pow(5,math.e))\n",
        "print(\"log(1024), base 2=\",math.log(1024,2))\n",
        "print(\"log(1024), base 10=\",math.log(1024,10))\n",
        "print(\"floor of 23.56=\",math.floor(23.56))\n",
        "print(\"ceiling of 23.56=\",math.ceil(23.56))"
      ],
      "execution_count": 10,
      "outputs": [
        {
          "output_type": "stream",
          "text": [
            "sine of 60= -0.3048106211022167\n",
            "cos of pi= -1.0\n",
            "tan of 90= -1.995200412208242\n",
            "angle of sin 0.86660254037844386= 0.7617599814162892\n",
            "5^8= 390625.0\n",
            "square root of 400= 20.0\n",
            "the value of 5^e= 79.43235916621322\n",
            "log(1024), base 2= 10.0\n",
            "log(1024), base 10= 3.0102999566398116\n",
            "floor of 23.56= 23\n",
            "ceiling of 23.56= 24\n"
          ],
          "name": "stdout"
        }
      ]
    }
  ]
}