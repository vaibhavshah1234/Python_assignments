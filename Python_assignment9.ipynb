{
  "nbformat": 4,
  "nbformat_minor": 0,
  "metadata": {
    "colab": {
      "name": "Python_assignment9.ipynb",
      "provenance": []
    },
    "kernelspec": {
      "name": "python3",
      "display_name": "Python 3"
    }
  },
  "cells": [
    {
      "cell_type": "markdown",
      "metadata": {
        "id": "Za_ZC5VTVQ8o",
        "colab_type": "text"
      },
      "source": [
        "## 1.program tht prints integers from to00. but for multiples of 3, print 'fizz' instead of the number and for the multiples of 5, print 'buzz'. for numbers which are multiples of both 3 and 5, print 'fizzbuzz'"
      ]
    },
    {
      "cell_type": "code",
      "metadata": {
        "id": "77wqXsBbSrOZ",
        "colab_type": "code",
        "colab": {
          "base_uri": "https://localhost:8080/",
          "height": 1000
        },
        "outputId": "add0da84-3c8b-4d8c-80e9-83242be73884"
      },
      "source": [
        "for i in range(1,101):\n",
        "  if i%3==0 and i%5==0:\n",
        "    i=\"FizzBuzz\"\n",
        "    print(i)\n",
        "  elif i%5==0:\n",
        "    i=\"Buzz\"\n",
        "    print(i)\n",
        "  elif i%3==0:\n",
        "    i=\"Fizz\"\n",
        "    print(i)\n",
        "  else:\n",
        "    print(i)"
      ],
      "execution_count": 1,
      "outputs": [
        {
          "output_type": "stream",
          "text": [
            "1\n",
            "2\n",
            "Fizz\n",
            "4\n",
            "Buzz\n",
            "Fizz\n",
            "7\n",
            "8\n",
            "Fizz\n",
            "Buzz\n",
            "11\n",
            "Fizz\n",
            "13\n",
            "14\n",
            "FizzBuzz\n",
            "16\n",
            "17\n",
            "Fizz\n",
            "19\n",
            "Buzz\n",
            "Fizz\n",
            "22\n",
            "23\n",
            "Fizz\n",
            "Buzz\n",
            "26\n",
            "Fizz\n",
            "28\n",
            "29\n",
            "FizzBuzz\n",
            "31\n",
            "32\n",
            "Fizz\n",
            "34\n",
            "Buzz\n",
            "Fizz\n",
            "37\n",
            "38\n",
            "Fizz\n",
            "Buzz\n",
            "41\n",
            "Fizz\n",
            "43\n",
            "44\n",
            "FizzBuzz\n",
            "46\n",
            "47\n",
            "Fizz\n",
            "49\n",
            "Buzz\n",
            "Fizz\n",
            "52\n",
            "53\n",
            "Fizz\n",
            "Buzz\n",
            "56\n",
            "Fizz\n",
            "58\n",
            "59\n",
            "FizzBuzz\n",
            "61\n",
            "62\n",
            "Fizz\n",
            "64\n",
            "Buzz\n",
            "Fizz\n",
            "67\n",
            "68\n",
            "Fizz\n",
            "Buzz\n",
            "71\n",
            "Fizz\n",
            "73\n",
            "74\n",
            "FizzBuzz\n",
            "76\n",
            "77\n",
            "Fizz\n",
            "79\n",
            "Buzz\n",
            "Fizz\n",
            "82\n",
            "83\n",
            "Fizz\n",
            "Buzz\n",
            "86\n",
            "Fizz\n",
            "88\n",
            "89\n",
            "FizzBuzz\n",
            "91\n",
            "92\n",
            "Fizz\n",
            "94\n",
            "Buzz\n",
            "Fizz\n",
            "97\n",
            "98\n",
            "Fizz\n",
            "Buzz\n"
          ],
          "name": "stdout"
        }
      ]
    },
    {
      "cell_type": "markdown",
      "metadata": {
        "id": "puuvXg5haacy",
        "colab_type": "text"
      },
      "source": [
        "## 2.program to remove consecutive duplicates from the list."
      ]
    },
    {
      "cell_type": "code",
      "metadata": {
        "id": "42U_sW3Jbdct",
        "colab_type": "code",
        "colab": {
          "base_uri": "https://localhost:8080/",
          "height": 67
        },
        "outputId": "f9290809-e990-4092-d054-132471953004"
      },
      "source": [
        "mylist=[1,2,2,3,3,3,5,5,9,4]\n",
        "prev=None\n",
        "newlist=[]\n",
        "\n",
        "for item in mylist:\n",
        "  if item!=prev:\n",
        "    newlist.append(item)\n",
        "    prev=item\n",
        "print(\"the new list:\\n\")\n",
        "print(newlist)"
      ],
      "execution_count": 3,
      "outputs": [
        {
          "output_type": "stream",
          "text": [
            "the new list:\n",
            "\n",
            "[1, 2, 3, 5, 9, 4]\n"
          ],
          "name": "stdout"
        }
      ]
    },
    {
      "cell_type": "markdown",
      "metadata": {
        "id": "EgHNxaefc_Au",
        "colab_type": "text"
      },
      "source": [
        "## 3.find unique elements in a list"
      ]
    },
    {
      "cell_type": "code",
      "metadata": {
        "id": "NLMC_MDBdJMd",
        "colab_type": "code",
        "colab": {
          "base_uri": "https://localhost:8080/",
          "height": 33
        },
        "outputId": "f0f1deed-a7bf-4e42-f702-28c691c5a2c7"
      },
      "source": [
        "mylist=[1,2,2,3,3,3,5,5,9,9,4]\n",
        "newlist=set(mylist)\n",
        "print(list(newlist))"
      ],
      "execution_count": 4,
      "outputs": [
        {
          "output_type": "stream",
          "text": [
            "[1, 2, 3, 4, 5, 9]\n"
          ],
          "name": "stdout"
        }
      ]
    },
    {
      "cell_type": "markdown",
      "metadata": {
        "id": "rmhb8Xseehvf",
        "colab_type": "text"
      },
      "source": [
        "## 4.function that checks if a number is in the given range or not (inclusive of high and low)"
      ]
    },
    {
      "cell_type": "code",
      "metadata": {
        "id": "bNkHIDs4esVT",
        "colab_type": "code",
        "colab": {
          "base_uri": "https://localhost:8080/",
          "height": 33
        },
        "outputId": "059c55c5-624f-45a1-ab24-fc40a1c6f59e"
      },
      "source": [
        "def check_range(num,start,stop):\n",
        "  if num in range(start,stop+1):\n",
        "    print(num,\"is present in the given range.\")\n",
        "  else:\n",
        "    print(num,\"is not present in the given range\")\n",
        "check_range(56,1,100)"
      ],
      "execution_count": 5,
      "outputs": [
        {
          "output_type": "stream",
          "text": [
            "56 is present in the given range.\n"
          ],
          "name": "stdout"
        }
      ]
    },
    {
      "cell_type": "markdown",
      "metadata": {
        "id": "r-SYTsYPfJes",
        "colab_type": "text"
      },
      "source": [
        "## 5.function that accepts a string and calculates the number of uppercase and lower case characters"
      ]
    },
    {
      "cell_type": "code",
      "metadata": {
        "id": "snUwz6tpfZkG",
        "colab_type": "code",
        "colab": {
          "base_uri": "https://localhost:8080/",
          "height": 67
        },
        "outputId": "c5c54c74-7e41-487e-9187-a9fb81b5d10d"
      },
      "source": [
        "def char_case(string):\n",
        "    lowercase,uppercase,special=0,0,0\n",
        "    for char in string:\n",
        "        if char.isupper():\n",
        "           uppercase+=1\n",
        "        elif char.islower():\n",
        "           lowercase+=1\n",
        "        else:\n",
        "           special+=1\n",
        "    print(\"number of uppercase characters=\",uppercase)\n",
        "    print(\"number of lowercase characters=\",lowercase)\n",
        "    print(\"number of special characters=\",special)\n",
        "char_case(\"Hello Mr . Rogers,how are you this fine Tuesday?\")"
      ],
      "execution_count": 10,
      "outputs": [
        {
          "output_type": "stream",
          "text": [
            "number of uppercase characters= 4\n",
            "number of lowercase characters= 33\n",
            "number of special characters= 11\n"
          ],
          "name": "stdout"
        }
      ]
    }
  ]
}