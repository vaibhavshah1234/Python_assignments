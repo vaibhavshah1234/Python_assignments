{
  "nbformat": 4,
  "nbformat_minor": 0,
  "metadata": {
    "colab": {
      "name": "Python_assignment13.ipynb",
      "provenance": [],
      "collapsed_sections": []
    },
    "kernelspec": {
      "name": "python3",
      "display_name": "Python 3"
    }
  },
  "cells": [
    {
      "cell_type": "markdown",
      "metadata": {
        "id": "Qjxk7Dhu8uHr",
        "colab_type": "text"
      },
      "source": [
        "## 1.what is dictionary in python? explain with example"
      ]
    },
    {
      "cell_type": "code",
      "metadata": {
        "id": "l2FrHlGf5__B",
        "colab_type": "code",
        "colab": {
          "base_uri": "https://localhost:8080/",
          "height": 253
        },
        "outputId": "8f0a35c9-bc88-4194-b287-490e3da69b01"
      },
      "source": [
        "#Dictionaries  are another examples of a data structure. A dictionary is used to map or associate things you want to store the keys you need to get them. A dictionary in python is just like a dictionary in the real world.\n",
        "#example\n",
        "my_dict = {'name': 'jack', 'age': 26}\n",
        "print(my_dict['name'])\n",
        "print(my_dict.get('age'))\n",
        "print(my_dict.get('address'))\n",
        "print(my_dict['address'])"
      ],
      "execution_count": 4,
      "outputs": [
        {
          "output_type": "stream",
          "text": [
            "jack\n",
            "26\n",
            "None\n"
          ],
          "name": "stdout"
        },
        {
          "output_type": "error",
          "ename": "KeyError",
          "evalue": "ignored",
          "traceback": [
            "\u001b[0;31m---------------------------------------------------------------------------\u001b[0m",
            "\u001b[0;31mKeyError\u001b[0m                                  Traceback (most recent call last)",
            "\u001b[0;32m<ipython-input-4-92cb4ef72a38>\u001b[0m in \u001b[0;36m<module>\u001b[0;34m()\u001b[0m\n\u001b[1;32m      5\u001b[0m \u001b[0mprint\u001b[0m\u001b[0;34m(\u001b[0m\u001b[0mmy_dict\u001b[0m\u001b[0;34m.\u001b[0m\u001b[0mget\u001b[0m\u001b[0;34m(\u001b[0m\u001b[0;34m'age'\u001b[0m\u001b[0;34m)\u001b[0m\u001b[0;34m)\u001b[0m\u001b[0;34m\u001b[0m\u001b[0;34m\u001b[0m\u001b[0m\n\u001b[1;32m      6\u001b[0m \u001b[0mprint\u001b[0m\u001b[0;34m(\u001b[0m\u001b[0mmy_dict\u001b[0m\u001b[0;34m.\u001b[0m\u001b[0mget\u001b[0m\u001b[0;34m(\u001b[0m\u001b[0;34m'address'\u001b[0m\u001b[0;34m)\u001b[0m\u001b[0;34m)\u001b[0m\u001b[0;34m\u001b[0m\u001b[0;34m\u001b[0m\u001b[0m\n\u001b[0;32m----> 7\u001b[0;31m \u001b[0mprint\u001b[0m\u001b[0;34m(\u001b[0m\u001b[0mmy_dict\u001b[0m\u001b[0;34m[\u001b[0m\u001b[0;34m'address'\u001b[0m\u001b[0;34m]\u001b[0m\u001b[0;34m)\u001b[0m\u001b[0;34m\u001b[0m\u001b[0;34m\u001b[0m\u001b[0m\n\u001b[0m",
            "\u001b[0;31mKeyError\u001b[0m: 'address'"
          ]
        }
      ]
    },
    {
      "cell_type": "markdown",
      "metadata": {
        "id": "RWlGpldb_v-o",
        "colab_type": "text"
      },
      "source": [
        "## 2.program to sum all the items in a list"
      ]
    },
    {
      "cell_type": "code",
      "metadata": {
        "id": "ZBb60bDAAbJW",
        "colab_type": "code",
        "colab": {
          "base_uri": "https://localhost:8080/",
          "height": 138
        },
        "outputId": "04102e1a-69b9-4e30-9b9f-084f0d1e8b34"
      },
      "source": [
        "lst = []\n",
        "num = int(input('how many numbers: '))\n",
        "for n in range(num):\n",
        "  numbers = int(input('enter number '))\n",
        "  lst.append(numbers)\n",
        "print(\"sum of elements in given list is :\", sum(lst))"
      ],
      "execution_count": 5,
      "outputs": [
        {
          "output_type": "stream",
          "text": [
            "how many numbers: 5\n",
            "enter number 1\n",
            "enter number 2\n",
            "enter number 3\n",
            "enter number 4\n",
            "enter number 5\n",
            "sum of elements in given list is : 15\n"
          ],
          "name": "stdout"
        }
      ]
    },
    {
      "cell_type": "markdown",
      "metadata": {
        "id": "jHLblsAEBQuQ",
        "colab_type": "text"
      },
      "source": [
        "## 3.program to create a list of empty dictionaries"
      ]
    },
    {
      "cell_type": "code",
      "metadata": {
        "id": "RzOLzU90Bj2t",
        "colab_type": "code",
        "colab": {
          "base_uri": "https://localhost:8080/",
          "height": 34
        },
        "outputId": "d14376f8-a313-4ecd-c261-87a6d41af50f"
      },
      "source": [
        "n = 5\n",
        "l = [{} for _ in range(n)]\n",
        "print(l)"
      ],
      "execution_count": 6,
      "outputs": [
        {
          "output_type": "stream",
          "text": [
            "[{}, {}, {}, {}, {}]\n"
          ],
          "name": "stdout"
        }
      ]
    },
    {
      "cell_type": "markdown",
      "metadata": {
        "id": "es9YhLKgBxUp",
        "colab_type": "text"
      },
      "source": [
        "## 4.program to access dictionary keys element by index"
      ]
    },
    {
      "cell_type": "code",
      "metadata": {
        "id": "6riVXctWB92V",
        "colab_type": "code",
        "colab": {
          "base_uri": "https://localhost:8080/",
          "height": 34
        },
        "outputId": "8e313af3-7978-4413-8ac4-a5f5fefbe373"
      },
      "source": [
        "num = {'aishu': 17, 'sreeram': 21, 'sivaleela': 46}\n",
        "print(list(num)[0])"
      ],
      "execution_count": 7,
      "outputs": [
        {
          "output_type": "stream",
          "text": [
            "aishu\n"
          ],
          "name": "stdout"
        }
      ]
    },
    {
      "cell_type": "markdown",
      "metadata": {
        "id": "mCEXB2P_Cgr8",
        "colab_type": "text"
      },
      "source": [
        "## 5.program to iterate over dictionaries using for loops"
      ]
    },
    {
      "cell_type": "code",
      "metadata": {
        "id": "dP2BF-X2CsqU",
        "colab_type": "code",
        "colab": {
          "base_uri": "https://localhost:8080/",
          "height": 69
        },
        "outputId": "ebe59d21-6072-4ff2-a21c-4cb8f31a5076"
      },
      "source": [
        "d = {'red': 1, 'green': 2, 'blue': 3}\n",
        "for color_key, value in d.items():\n",
        "  print(color_key, 'corresponds to', d[color_key])"
      ],
      "execution_count": 8,
      "outputs": [
        {
          "output_type": "stream",
          "text": [
            "red corresponds to 1\n",
            "green corresponds to 2\n",
            "blue corresponds to 3\n"
          ],
          "name": "stdout"
        }
      ]
    },
    {
      "cell_type": "markdown",
      "metadata": {
        "id": "i_jeGtXFDWjs",
        "colab_type": "text"
      },
      "source": [
        "## 6.program to sum all the items in a dictionary"
      ]
    },
    {
      "cell_type": "code",
      "metadata": {
        "id": "CmFKRx0sDiLG",
        "colab_type": "code",
        "colab": {
          "base_uri": "https://localhost:8080/",
          "height": 34
        },
        "outputId": "55ea6b21-08d5-415e-e16f-e6b287534bf5"
      },
      "source": [
        "my_dict = {'book1':100,'book2':-25,'book3':400}\n",
        "print(sum(my_dict.values()))"
      ],
      "execution_count": 9,
      "outputs": [
        {
          "output_type": "stream",
          "text": [
            "475\n"
          ],
          "name": "stdout"
        }
      ]
    },
    {
      "cell_type": "markdown",
      "metadata": {
        "id": "Nag0qNJ2EOGS",
        "colab_type": "text"
      },
      "source": [
        "## 7.program to concentrate following dictionaries to create a new one.\n",
        "\n",
        "sample dictionary\n",
        "\n",
        "a.dic1={1:10,2:20}\n",
        "\n",
        "b.dic2={3:30,4:40}\n",
        "\n",
        "c.dic3={5:50,6:60}\n",
        "\n",
        "expected result:{1:10, 2:20, 3:30, 4:40, 5:50, 6:60}"
      ]
    },
    {
      "cell_type": "code",
      "metadata": {
        "id": "-G_AIBrOGkJv",
        "colab_type": "code",
        "colab": {
          "base_uri": "https://localhost:8080/",
          "height": 34
        },
        "outputId": "611103bd-a83f-43fe-d1e8-370cac3e5d1a"
      },
      "source": [
        "dict1 = {1:10, 2:20}\n",
        "dict2 = {3:30, 4:40}\n",
        "dict3 = {5:50, 6:60}\n",
        "dict2.update(dict3)\n",
        "dict1.update(dict2)\n",
        "print(\"required result:\",dict1)"
      ],
      "execution_count": 10,
      "outputs": [
        {
          "output_type": "stream",
          "text": [
            "required result: {1: 10, 2: 20, 3: 30, 4: 40, 5: 50, 6: 60}\n"
          ],
          "name": "stdout"
        }
      ]
    }
  ]
}