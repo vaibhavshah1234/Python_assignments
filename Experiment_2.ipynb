{
  "nbformat": 4,
  "nbformat_minor": 0,
  "metadata": {
    "colab": {
      "name": "Experiment 2",
      "provenance": [],
      "authorship_tag": "ABX9TyNyP2h2vZ1IIf5C4+UZAVBt",
      "include_colab_link": true
    },
    "kernelspec": {
      "name": "python3",
      "display_name": "Python 3"
    }
  },
  "cells": [
    {
      "cell_type": "markdown",
      "metadata": {
        "id": "view-in-github",
        "colab_type": "text"
      },
      "source": [
        "<a href=\"https://colab.research.google.com/github/aishwarya756/Python-Assignments/blob/master/Experiment_2.ipynb\" target=\"_parent\"><img src=\"https://colab.research.google.com/assets/colab-badge.svg\" alt=\"Open In Colab\"/></a>"
      ]
    },
    {
      "cell_type": "markdown",
      "metadata": {
        "id": "InHmScfc0o-a"
      },
      "source": [
        "## Write a program to find a linear list of items and store it in an array.\n",
        "### 1.copy the contents from one array to another array\n",
        "### 2.copy the contents from one array to another array in reverse order\n",
        "### 3.delete the duplicate elements from an array"
      ]
    },
    {
      "cell_type": "code",
      "metadata": {
        "id": "Kws3mXOEtscJ",
        "outputId": "0bf81af8-1a25-4c53-8202-fe1370ba353c",
        "colab": {
          "base_uri": "https://localhost:8080/",
          "height": 397
        }
      },
      "source": [
        "#1 copy the contents from one array to another array\n",
        "arr1 = [1, 2, 2, 3, 4, 4, 5];     \n",
        "        \n",
        "arr2 = [None] * len(arr1);    \n",
        "      \n",
        "for i in range(0, len(arr1)):    \n",
        "    arr2[i] = arr1[i];     \n",
        "      \n",
        "print(\"\\nElements of original array: \");    \n",
        "for i in range(0, len(arr1)):    \n",
        "   print(arr1[i]),    \n",
        "        \n",
        "     \n",
        "print(\"Elements of new array: \");    \n",
        "for i in range(0, len(arr2)):    \n",
        "   print(arr2[i]),\n",
        "\n",
        "#2 copy the contents from one array to another array in reverse order\n",
        "import math as mt \n",
        " \n",
        "def printArray(arr, Len): \n",
        "\n",
        "\tfor i in range(Len): \n",
        "\t\tprint(arr[i], end = \" \") \n",
        "\t\n",
        "original_arr = [1, 2, 2, 3, 4, 4, 5] \n",
        "Len = len(original_arr) \n",
        "\n",
        "copied_arr = [0 for i in range(Len)] \n",
        "\n",
        "for i in range(Len): \n",
        "\tcopied_arr[i] = original_arr[Len - i - 1] \n",
        "\n",
        "print()\n",
        "print(\"Original array: \", end = \"\") \n",
        "printArray(original_arr, Len) \n",
        "\n",
        "print(\"\\nResultant array: \", end = \"\") \n",
        "printArray(copied_arr, Len)\n",
        "\n",
        "\n",
        "#3 delete the duplicate elements from an array \n",
        "def Remove(duplicate): \n",
        "\tfinal_list = [] \n",
        "\tfor num in duplicate: \n",
        "\t\tif num not in final_list: \n",
        "\t\t\tfinal_list.append(num) \n",
        "\treturn final_list \n",
        "\t\n",
        "duplicate = [1, 2, 2, 3, 4, 4, 5]\n",
        "print('\\n')\n",
        "print(Remove(duplicate))\n"
      ],
      "execution_count": 25,
      "outputs": [
        {
          "output_type": "stream",
          "text": [
            "\n",
            "Elements of original array: \n",
            "1\n",
            "2\n",
            "2\n",
            "3\n",
            "4\n",
            "4\n",
            "5\n",
            "Elements of new array: \n",
            "1\n",
            "2\n",
            "2\n",
            "3\n",
            "4\n",
            "4\n",
            "5\n",
            "\n",
            "Original array: 1 2 2 3 4 4 5 \n",
            "Resultant array: 5 4 4 3 2 2 1 \n",
            "\n",
            "[1, 2, 3, 4, 5]\n"
          ],
          "name": "stdout"
        }
      ]
    }
  ]
}