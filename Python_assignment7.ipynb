{
  "nbformat": 4,
  "nbformat_minor": 0,
  "metadata": {
    "colab": {
      "name": "Python_assignment7.ipynb",
      "provenance": []
    },
    "kernelspec": {
      "name": "python3",
      "display_name": "Python 3"
    }
  },
  "cells": [
    {
      "cell_type": "markdown",
      "metadata": {
        "id": "y88aN7n86I2W",
        "colab_type": "text"
      },
      "source": [
        "## 1.python program to find the square root"
      ]
    },
    {
      "cell_type": "code",
      "metadata": {
        "id": "FU004j-I5APq",
        "colab_type": "code",
        "colab": {
          "base_uri": "https://localhost:8080/",
          "height": 33
        },
        "outputId": "1d4830d0-31e7-4595-b4b1-7ab133402c06"
      },
      "source": [
        "num = 8\n",
        "num_sqrt = num ** 0.5\n",
        "print('the square root of %0.3f is %0.3f'%(num ,num_sqrt))"
      ],
      "execution_count": 1,
      "outputs": [
        {
          "output_type": "stream",
          "text": [
            "the square root of 8.000 is 2.828\n"
          ],
          "name": "stdout"
        }
      ]
    },
    {
      "cell_type": "markdown",
      "metadata": {
        "id": "vbVI6hyz7ODg",
        "colab_type": "text"
      },
      "source": [
        "## 2.python program to check if a number is positive, negative or 0"
      ]
    },
    {
      "cell_type": "code",
      "metadata": {
        "id": "bkAqxM2G7kNA",
        "colab_type": "code",
        "colab": {
          "base_uri": "https://localhost:8080/",
          "height": 50
        },
        "outputId": "59c6b34b-df79-4f10-c344-18134939a220"
      },
      "source": [
        "num = float(input(\"enter a number: \"))\n",
        "if num > 0:\n",
        "  print(\"positive number\")\n",
        "elif num == 0:\n",
        "  print(\"zero\")\n",
        "else:\n",
        "  print(\"negative number\")"
      ],
      "execution_count": 2,
      "outputs": [
        {
          "output_type": "stream",
          "text": [
            "enter a number: 3\n",
            "positive number\n"
          ],
          "name": "stdout"
        }
      ]
    },
    {
      "cell_type": "code",
      "metadata": {
        "id": "Z-X0uOV48SSL",
        "colab_type": "code",
        "colab": {
          "base_uri": "https://localhost:8080/",
          "height": 50
        },
        "outputId": "d8a957a5-996c-45ae-bd0b-de13e0e388d0"
      },
      "source": [
        "num = float(input(\"enter a number: \"))\n",
        "if num > 0:\n",
        "  print(\"positive number\")\n",
        "elif num == 0:\n",
        "  print(\"zero\")\n",
        "else:\n",
        "  print(\"negative number\")"
      ],
      "execution_count": 3,
      "outputs": [
        {
          "output_type": "stream",
          "text": [
            "enter a number: -3\n",
            "negative number\n"
          ],
          "name": "stdout"
        }
      ]
    },
    {
      "cell_type": "code",
      "metadata": {
        "id": "Dei_Fj-E8ctv",
        "colab_type": "code",
        "colab": {
          "base_uri": "https://localhost:8080/",
          "height": 50
        },
        "outputId": "5ddb33c2-6fbf-4234-e359-3713382aa749"
      },
      "source": [
        "num = float(input(\"enter a number: \"))\n",
        "if num > 0:\n",
        "  print(\"positive number\")\n",
        "elif num == 0:\n",
        "  print(\"zero\")\n",
        "else:\n",
        "  print(\"negative number\")"
      ],
      "execution_count": 4,
      "outputs": [
        {
          "output_type": "stream",
          "text": [
            "enter a number: 0\n",
            "zero\n"
          ],
          "name": "stdout"
        }
      ]
    },
    {
      "cell_type": "markdown",
      "metadata": {
        "id": "zSUk6H8L8hnh",
        "colab_type": "text"
      },
      "source": [
        "## 3.python program to check leap year"
      ]
    },
    {
      "cell_type": "code",
      "metadata": {
        "id": "YFdX0Pbo9LJt",
        "colab_type": "code",
        "colab": {
          "base_uri": "https://localhost:8080/",
          "height": 33
        },
        "outputId": "30a98b13-ab77-470b-d3ae-41d4ca4a8a03"
      },
      "source": [
        "year = 2012\n",
        "if (year % 4)==0:\n",
        "  if (year % 100)==0:\n",
        "    if (year % 400)==0:\n",
        "      print(\"{0} is a leap year\".format(year))\n",
        "    else:\n",
        "      print(\"{0} is not a leap year\".format(year))\n",
        "  else:\n",
        "    print(\"{0} is a leap year\".format(year))\n",
        "else:\n",
        "  print(\"{0} ia not a leap year\".format(year))"
      ],
      "execution_count": 5,
      "outputs": [
        {
          "output_type": "stream",
          "text": [
            "2012 is a leap year\n"
          ],
          "name": "stdout"
        }
      ]
    },
    {
      "cell_type": "markdown",
      "metadata": {
        "id": "O-uWP9lQ-LOz",
        "colab_type": "text"
      },
      "source": [
        "## 4.python program to print fibonacci sequence"
      ]
    },
    {
      "cell_type": "code",
      "metadata": {
        "id": "0icHUkYk--V3",
        "colab_type": "code",
        "colab": {
          "base_uri": "https://localhost:8080/",
          "height": 201
        },
        "outputId": "959a64fa-155c-45fa-969b-fd05c2cbc61e"
      },
      "source": [
        "nterms = int(input(\"how many terms?\"))\n",
        "n1, n2 = 0, 1\n",
        "count = 0\n",
        "if nterms <= 0:\n",
        "  print(\"please enter a positive integer\")\n",
        "elif nterms == 1:\n",
        "  print(\"fibonacci sequence upto\",nterms,\":\")\n",
        "  print(n1)\n",
        "else:\n",
        "  print(\"fibonacci sequence:\")\n",
        "  while count < nterms:\n",
        "    print(n1)\n",
        "    nth = n1 + n2\n",
        "    n1 = n2\n",
        "    n2 = nth\n",
        "    count += 1"
      ],
      "execution_count": 8,
      "outputs": [
        {
          "output_type": "stream",
          "text": [
            "how many terms?9\n",
            "fibonacci sequence:\n",
            "0\n",
            "1\n",
            "1\n",
            "2\n",
            "3\n",
            "5\n",
            "8\n",
            "13\n",
            "21\n"
          ],
          "name": "stdout"
        }
      ]
    },
    {
      "cell_type": "markdown",
      "metadata": {
        "id": "A_o98aSFA3b4",
        "colab_type": "text"
      },
      "source": [
        "## 5.python program to check armstrong number"
      ]
    },
    {
      "cell_type": "code",
      "metadata": {
        "id": "XodGEaAABZY3",
        "colab_type": "code",
        "colab": {
          "base_uri": "https://localhost:8080/",
          "height": 50
        },
        "outputId": "d98b721a-a95b-4cdc-c7df-ebdb15c0022b"
      },
      "source": [
        "num = int(input(\"enter a number: \"))\n",
        "sum = 0\n",
        "temp = num\n",
        "while temp > 0:\n",
        "  digit = temp % 10\n",
        "  sum += digit ** 3\n",
        "  temp //= 10\n",
        "if num == sum:\n",
        "  print(num,\"is an armstrong number\")\n",
        "else:\n",
        "  print(num,\"is not an armstrong number\")"
      ],
      "execution_count": 9,
      "outputs": [
        {
          "output_type": "stream",
          "text": [
            "enter a number: 335\n",
            "335 is not an armstrong number\n"
          ],
          "name": "stdout"
        }
      ]
    },
    {
      "cell_type": "code",
      "metadata": {
        "id": "Xwve5-bkE0Om",
        "colab_type": "code",
        "colab": {
          "base_uri": "https://localhost:8080/",
          "height": 50
        },
        "outputId": "3511bb5b-8a5b-45c6-f976-e5475f39729e"
      },
      "source": [
        "num = int(input(\"enter a number: \"))\n",
        "sum = 0\n",
        "temp = num\n",
        "while temp > 0:\n",
        "  digit = temp % 10\n",
        "  sum += digit ** 3\n",
        "  temp //= 10\n",
        "if num == sum:\n",
        "  print(num,\"is an armstrong number\")\n",
        "else:\n",
        "  print(num,\"is not an armstrong number\")"
      ],
      "execution_count": 10,
      "outputs": [
        {
          "output_type": "stream",
          "text": [
            "enter a number: 153\n",
            "153 is an armstrong number\n"
          ],
          "name": "stdout"
        }
      ]
    },
    {
      "cell_type": "markdown",
      "metadata": {
        "id": "1WHHSCs-E9Zm",
        "colab_type": "text"
      },
      "source": [
        "## 6.python progrm to find armstrong number in an interval"
      ]
    },
    {
      "cell_type": "code",
      "metadata": {
        "id": "N2qbNfriGaPM",
        "colab_type": "code",
        "colab": {
          "base_uri": "https://localhost:8080/",
          "height": 100
        },
        "outputId": "32139f91-28ce-45a3-f88d-b75d43994757"
      },
      "source": [
        "lower = 100\n",
        "upper = 2000\n",
        "for num in range(lower, upper + 1):\n",
        "  order = len(str(num))\n",
        "  sum = 0\n",
        "  temp = num\n",
        "  while temp > 0:\n",
        "    digit = temp % 10\n",
        "    sum += digit ** order\n",
        "    temp //=10\n",
        "  if num == sum:\n",
        "    print(num)"
      ],
      "execution_count": 11,
      "outputs": [
        {
          "output_type": "stream",
          "text": [
            "153\n",
            "370\n",
            "371\n",
            "407\n",
            "1634\n"
          ],
          "name": "stdout"
        }
      ]
    }
  ]
}