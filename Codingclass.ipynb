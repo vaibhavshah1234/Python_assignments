{
  "nbformat": 4,
  "nbformat_minor": 0,
  "metadata": {
    "colab": {
      "name": "Codingclass",
      "provenance": [],
      "collapsed_sections": [],
      "include_colab_link": true
    },
    "kernelspec": {
      "name": "python3",
      "display_name": "Python 3"
    }
  },
  "cells": [
    {
      "cell_type": "markdown",
      "metadata": {
        "id": "view-in-github",
        "colab_type": "text"
      },
      "source": [
        "<a href=\"https://colab.research.google.com/github/aishwarya756/Python-Assignments/blob/master/Codingclass.ipynb\" target=\"_parent\"><img src=\"https://colab.research.google.com/assets/colab-badge.svg\" alt=\"Open In Colab\"/></a>"
      ]
    },
    {
      "cell_type": "markdown",
      "metadata": {
        "id": "5VCT5Oi509Qo"
      },
      "source": [
        "##1.Write a python program to insert a new item before the second element in an existing array."
      ]
    },
    {
      "cell_type": "code",
      "metadata": {
        "colab": {
          "base_uri": "https://localhost:8080/"
        },
        "id": "ZT8USzon1U_T",
        "outputId": "8fb1b0a0-3107-4953-d200-07b5e4957864"
      },
      "source": [
        " \n",
        "from array import *\n",
        "array_num = array('i', [1, 3, 5, 7, 9])\n",
        "print(\"Original array: \"+str(array_num))\n",
        "print(\"Insert new value 4 before 3:\")\n",
        "array_num.insert(1, 4)\n",
        "print(\"New array: \"+str(array_num))"
      ],
      "execution_count": null,
      "outputs": [
        {
          "output_type": "stream",
          "text": [
            "Original array: array('i', [1, 3, 5, 7, 9])\n",
            "Insert new value 4 before 3:\n",
            "New array: array('i', [1, 4, 3, 5, 7, 9])\n"
          ],
          "name": "stdout"
        }
      ]
    },
    {
      "cell_type": "markdown",
      "metadata": {
        "id": "N4cOpGbL1u5Y"
      },
      "source": [
        "##2.write a python program to remove the first occurance of a specified element from an array"
      ]
    },
    {
      "cell_type": "code",
      "metadata": {
        "colab": {
          "base_uri": "https://localhost:8080/"
        },
        "id": "IhpfzHu81_tJ",
        "outputId": "a7c72d4f-a396-4420-94d1-c246e10e2fd6"
      },
      "source": [
        " \n",
        "from array import *\n",
        "array_num = array('i', [1, 3, 5, 3, 7, 1, 9, 3])\n",
        "print(\"Original array: \"+str(array_num))\n",
        "print(\"Remove the first occurrence of 3 from the said array:\")\n",
        "array_num.remove(3)\n",
        "print(\"New array: \"+str(array_num))"
      ],
      "execution_count": null,
      "outputs": [
        {
          "output_type": "stream",
          "text": [
            "Original array: array('i', [1, 3, 5, 3, 7, 1, 9, 3])\n",
            "Remove the first occurrence of 3 from the said array:\n",
            "New array: array('i', [1, 5, 3, 7, 1, 9, 3])\n"
          ],
          "name": "stdout"
        }
      ]
    }
  ]
}