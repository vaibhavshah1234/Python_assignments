{
  "nbformat": 4,
  "nbformat_minor": 0,
  "metadata": {
    "colab": {
      "name": "Python_assignment3.ipynb",
      "provenance": [],
      "collapsed_sections": []
    },
    "kernelspec": {
      "name": "python3",
      "display_name": "Python 3"
    }
  },
  "cells": [
    {
      "cell_type": "markdown",
      "metadata": {
        "id": "XvoouO4dDqJl",
        "colab_type": "text"
      },
      "source": [
        "## 1.take two inputs from the user and check whether they are equal or not."
      ]
    },
    {
      "cell_type": "code",
      "metadata": {
        "id": "n4r2DnWGCgIb",
        "colab_type": "code",
        "colab": {
          "base_uri": "https://localhost:8080/",
          "height": 67
        },
        "outputId": "c81bf75a-368e-43e7-89bd-c2fc78a00d0a"
      },
      "source": [
        "input1 = input(\"Enter the first input:\")\n",
        "input2=input(\"Enter the second input:\")\n",
        "if input1==input2:\n",
        "  print(\"the given inputs are equal\")\n",
        "else:\n",
        "  print(\"the given inputs are not equal\")"
      ],
      "execution_count": 3,
      "outputs": [
        {
          "output_type": "stream",
          "text": [
            "Enter the first input:Aishu\n",
            "Enter the second input:Aishu\n",
            "the given inputs are equal\n"
          ],
          "name": "stdout"
        }
      ]
    },
    {
      "cell_type": "code",
      "metadata": {
        "id": "qUyrs8T_FgWw",
        "colab_type": "code",
        "colab": {
          "base_uri": "https://localhost:8080/",
          "height": 67
        },
        "outputId": "e8a627a8-d049-4f6e-db2c-55bc2d385aa4"
      },
      "source": [
        "input1 = input(\"Enter the first input:\")\n",
        "input2 = input(\"Enter the second input:\")\n",
        "if input1==input2:\n",
        "  print(\"the given inputs are equal\")\n",
        "else:\n",
        "  print(\"the given inputs are not equal\")"
      ],
      "execution_count": 4,
      "outputs": [
        {
          "output_type": "stream",
          "text": [
            "Enter the first input:Aishu\n",
            "Enter the second input:Aish\n",
            "the given inputs are not equal\n"
          ],
          "name": "stdout"
        }
      ]
    },
    {
      "cell_type": "markdown",
      "metadata": {
        "id": "f0tZlcn6G4xS",
        "colab_type": "text"
      },
      "source": [
        "## 2.take 3inputs from the user and check : all are equal, any of two are equal (use and or)"
      ]
    },
    {
      "cell_type": "code",
      "metadata": {
        "id": "8PGMyDgFHQXd",
        "colab_type": "code",
        "colab": {
          "base_uri": "https://localhost:8080/",
          "height": 84
        },
        "outputId": "3939b4ea-4cc8-4761-8338-3ff297c6fb26"
      },
      "source": [
        "input1 = input(\"Enter the first input:\")\n",
        "input2 = input(\"Enter the second input:\")\n",
        "input3 = input(\"Enter the third input:\")\n",
        "if input1==input2 and input2==input3:\n",
        "  print(\"the given inputs re equal\")\n",
        "else:\n",
        "  if input1==input2 or input2==input3 or input3==input1:\n",
        "    print(\"two inputs are equal\")\n",
        "  else:\n",
        "    print(\"none of the inputs are equal\")"
      ],
      "execution_count": 6,
      "outputs": [
        {
          "output_type": "stream",
          "text": [
            "Enter the first input:27\n",
            "Enter the second input:27\n",
            "Enter the third input:27\n",
            "the given inputs re equal\n"
          ],
          "name": "stdout"
        }
      ]
    },
    {
      "cell_type": "code",
      "metadata": {
        "id": "feGsu0HxJh5h",
        "colab_type": "code",
        "colab": {
          "base_uri": "https://localhost:8080/",
          "height": 84
        },
        "outputId": "0ad77196-eb79-4ba8-e2b1-3bfcf3550231"
      },
      "source": [
        "input1 = input(\"Enter the first input:\")\n",
        "input2 = input(\"Enter the second input:\")\n",
        "input3 = input(\"Enter the third input:\")\n",
        "if input1==input2 and input2==input3:\n",
        "  print(\"the given inputs re equal\")\n",
        "else:\n",
        "  if input1==input2 or input2==input3 or input3==input1:\n",
        "    print(\"two inputs are equal\")\n",
        "  else:\n",
        "    print(\"none of the inputs are equal\")"
      ],
      "execution_count": 7,
      "outputs": [
        {
          "output_type": "stream",
          "text": [
            "Enter the first input:27\n",
            "Enter the second input:27\n",
            "Enter the third input:03\n",
            "two inputs are equal\n"
          ],
          "name": "stdout"
        }
      ]
    },
    {
      "cell_type": "markdown",
      "metadata": {
        "id": "KcDvEr8AJxUn",
        "colab_type": "text"
      },
      "source": [
        "## 3.take two numbers and check whether the sum is greater than 5, less than 5 or equal to 5"
      ]
    },
    {
      "cell_type": "code",
      "metadata": {
        "id": "o6QOyQPmKlVm",
        "colab_type": "code",
        "colab": {
          "base_uri": "https://localhost:8080/",
          "height": 67
        },
        "outputId": "4e48ccc6-8b9e-43db-cc68-192aa5eae7b4"
      },
      "source": [
        "num1 = int(input(\"enter the first number:\"))\n",
        "num2 = int(input(\"enter the second number:\"))\n",
        "if num1+num2>5:\n",
        "  print(\"the sum is greater than 5\")\n",
        "elif num1+num2<5:\n",
        "  print(\"the sum is less than 5\")\n",
        "else:\n",
        "  print(\"the sum is equal to 5\")"
      ],
      "execution_count": 9,
      "outputs": [
        {
          "output_type": "stream",
          "text": [
            "enter the first number:27\n",
            "enter the second number:03\n",
            "the sum is greater than 5\n"
          ],
          "name": "stdout"
        }
      ]
    },
    {
      "cell_type": "code",
      "metadata": {
        "id": "Iwjr0NI5LmAZ",
        "colab_type": "code",
        "colab": {
          "base_uri": "https://localhost:8080/",
          "height": 67
        },
        "outputId": "2ac56d21-d0b9-44c2-835d-9fb85db9134c"
      },
      "source": [
        "num1 = int(input(\"enter the first number:\"))\n",
        "num2 = int(input(\"enter the second number:\"))\n",
        "if num1+num2>5:\n",
        "  print(\"the sum is greater than 5\")\n",
        "elif num1+num2<5:\n",
        "  print(\"the sum is less than 5\")\n",
        "else:\n",
        "  print(\"the sum is equal to 5\")"
      ],
      "execution_count": 10,
      "outputs": [
        {
          "output_type": "stream",
          "text": [
            "enter the first number:0\n",
            "enter the second number:3\n",
            "the sum is less than 5\n"
          ],
          "name": "stdout"
        }
      ]
    },
    {
      "cell_type": "code",
      "metadata": {
        "id": "38KCSwnKL-vQ",
        "colab_type": "code",
        "colab": {
          "base_uri": "https://localhost:8080/",
          "height": 67
        },
        "outputId": "ae5ce3e6-9c43-4251-c46d-ee8afa16a46b"
      },
      "source": [
        "num1 = int(input(\"enter the first number:\"))\n",
        "num2 = int(input(\"enter the second number:\"))\n",
        "if num1+num2>5:\n",
        "  print(\"the sum is greater than 5\")\n",
        "elif num1+num2<5:\n",
        "  print(\"the sum is less than 5\")\n",
        "else:\n",
        "  print(\"the sum is equal to 5\")"
      ],
      "execution_count": 11,
      "outputs": [
        {
          "output_type": "stream",
          "text": [
            "enter the first number:3\n",
            "enter the second number:2\n",
            "the sum is equal to 5\n"
          ],
          "name": "stdout"
        }
      ]
    },
    {
      "cell_type": "markdown",
      "metadata": {
        "id": "AI36mKMBMHkc",
        "colab_type": "text"
      },
      "source": [
        "## 4.suppose passing marks of subject is 35. take input of marks from user and check whether it is greater than passing marks or not"
      ]
    },
    {
      "cell_type": "code",
      "metadata": {
        "id": "KJhRcBYqNC1G",
        "colab_type": "code",
        "colab": {
          "base_uri": "https://localhost:8080/",
          "height": 50
        },
        "outputId": "6a0a1639-dd77-4c3c-96ed-646772a6ad20"
      },
      "source": [
        "marks = float(input(\"enter the number of marks:\"))\n",
        "pass_mark=35\n",
        "if marks>pass_mark:\n",
        "  print(\"the marks you scored are greater than pass mark. you have passed\")\n",
        "else:\n",
        "  print(\"the marks you have scored are less than pass mark. you have not passed\")"
      ],
      "execution_count": 12,
      "outputs": [
        {
          "output_type": "stream",
          "text": [
            "enter the number of marks:85\n",
            "the marks you scored are greater than pass mark. you have passed\n"
          ],
          "name": "stdout"
        }
      ]
    },
    {
      "cell_type": "code",
      "metadata": {
        "id": "FzvNo--jOE3A",
        "colab_type": "code",
        "colab": {
          "base_uri": "https://localhost:8080/",
          "height": 50
        },
        "outputId": "6dc2516d-56dc-4fd3-e069-d2ab6dbfef33"
      },
      "source": [
        "marks = float(input(\"enter the number of marks:\"))\n",
        "pass_mark=35\n",
        "if marks>pass_mark:\n",
        "  print(\"the marks you scored are greater than pass mark. you have passed\")\n",
        "else:\n",
        "  print(\"the marks you have scored are less than pass mark. you have not passed\")"
      ],
      "execution_count": 13,
      "outputs": [
        {
          "output_type": "stream",
          "text": [
            "enter the number of marks:27\n",
            "the marks you have scored are less than pass mark. you have not passed\n"
          ],
          "name": "stdout"
        }
      ]
    },
    {
      "cell_type": "markdown",
      "metadata": {
        "id": "wUqwt1XUORi5",
        "colab_type": "text"
      },
      "source": [
        "## 5.write a python function to find the max of two numbers"
      ]
    },
    {
      "cell_type": "code",
      "metadata": {
        "id": "GtcuhaUJObEz",
        "colab_type": "code",
        "colab": {
          "base_uri": "https://localhost:8080/",
          "height": 84
        },
        "outputId": "9598dd4b-3186-4644-9f9a-bc061072c98d"
      },
      "source": [
        "num1 = int(input(\"enter the first number:\"))\n",
        "num2 = int(input(\"enter the second number:\"))\n",
        "num3 = int(input(\"enter the third number:\"))\n",
        "if num1>num2:\n",
        "  if num1>num3:\n",
        "    print(\"the mximum of three numbers is:\",num1)\n",
        "  else:\n",
        "    print(\"the mximum of three numbers is:\",num3)\n",
        "else:\n",
        "  if num2>num3:\n",
        "    print(\"the maximum of three numbers is:\",num2)\n",
        "  else:\n",
        "    print(\"the maximum of three numbers is:\",num3)"
      ],
      "execution_count": 16,
      "outputs": [
        {
          "output_type": "stream",
          "text": [
            "enter the first number:27\n",
            "enter the second number:35\n",
            "enter the third number:03\n",
            "the maximum of three numbers is: 35\n"
          ],
          "name": "stdout"
        }
      ]
    }
  ]
}