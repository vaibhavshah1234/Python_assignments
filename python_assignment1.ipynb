{
  "nbformat": 4,
  "nbformat_minor": 0,
  "metadata": {
    "colab": {
      "name": "python_assignment1",
      "provenance": [],
      "collapsed_sections": []
    },
    "kernelspec": {
      "name": "python3",
      "display_name": "Python 3"
    }
  },
  "cells": [
    {
      "cell_type": "markdown",
      "metadata": {
        "id": "hUdgUdShPf5h",
        "colab_type": "text"
      },
      "source": [
        "## 1.write a program to design simple claculater for the following opertors"
      ]
    },
    {
      "cell_type": "code",
      "metadata": {
        "id": "kvUP7gRgNwRV",
        "colab_type": "code",
        "colab": {
          "base_uri": "https://localhost:8080/",
          "height": 167
        },
        "outputId": "7f308c91-0ef9-4ad0-96f4-aea8c038e820"
      },
      "source": [
        "num1=int(input('enter first number:'))\n",
        "num2=int(input('enter second number:'))\n",
        "add = num1 + num2\n",
        "diff = num1 - num2\n",
        "mul = num1 * num2\n",
        "div = num1 / num2\n",
        "floor_div = num1 // num2\n",
        "modulus = num1 % num2\n",
        "power = num1 ** num2\n",
        "print('Sum of',num1 , 'and',num2 ,'is:',add)\n",
        "print('Difference of',num1 , 'and' ,num2 ,'is:',diff)\n",
        "print('Product of',num1 , 'and' ,num2 , 'is:',mul)\n",
        "print('Division of',num1 , 'and' , num2 , 'is:',div)\n",
        "print('Floor Division',num1 , 'and' , num2 ,'is:',floor_div)\n",
        "print('Modulus of',num1 , 'and' , num2 ,'is:',modulus)\n",
        "print('Exponent of',num1 , 'and' , num2 ,'is:',power)\n"
      ],
      "execution_count": 1,
      "outputs": [
        {
          "output_type": "stream",
          "text": [
            "enter first number:9\n",
            "enter second number:5\n",
            "Sum of 9 and 5 is: 14\n",
            "Difference of 9 and 5 is: 4\n",
            "Product of 9 and 5 is: 45\n",
            "Division of 9 and 5 is: 1.8\n",
            "Floor Division 9 and 5 is: 1\n",
            "Modulus of 9 and 5 is: 4\n",
            "Exponent of 9 and 5 is: 59049\n"
          ],
          "name": "stdout"
        }
      ]
    },
    {
      "cell_type": "markdown",
      "metadata": {
        "id": "j_0WEYMQVHnC",
        "colab_type": "text"
      },
      "source": [
        "## 2.write a python program to calculate simple intrset."
      ]
    },
    {
      "cell_type": "code",
      "metadata": {
        "id": "jjgmdy8qU-KT",
        "colab_type": "code",
        "colab": {
          "base_uri": "https://localhost:8080/",
          "height": 33
        },
        "outputId": "33661eba-f57f-4d57-d0a5-9159be667117"
      },
      "source": [
        "P=1000\n",
        "R=1\n",
        "T=2\n",
        "# simple interest\n",
        "SI=(P * R * T) / 100\n",
        "print(\"simple interest is\" , SI)\n",
        "\n"
      ],
      "execution_count": 2,
      "outputs": [
        {
          "output_type": "stream",
          "text": [
            "simple interest is 20.0\n"
          ],
          "name": "stdout"
        }
      ]
    },
    {
      "cell_type": "markdown",
      "metadata": {
        "id": "0-OtPtQlXBWT",
        "colab_type": "text"
      },
      "source": [
        "## 3.write a python program to calculate area of circle."
      ]
    },
    {
      "cell_type": "code",
      "metadata": {
        "id": "T5lJsGghXPRd",
        "colab_type": "code",
        "colab": {
          "base_uri": "https://localhost:8080/",
          "height": 50
        },
        "outputId": "065014ab-21b8-4eaa-f17b-1ac4f8419843"
      },
      "source": [
        "import math\n",
        "\n",
        "Circumference = float(input('please enter the Circumference of a circle:'))\n",
        "area = (Circumference * Circumference)/(4 * math.pi)\n",
        "print(\"Area of circle = %.2f\" %area)"
      ],
      "execution_count": 5,
      "outputs": [
        {
          "output_type": "stream",
          "text": [
            "please enter the Circumference of a circle:26\n",
            "Area of circle = 53.79\n"
          ],
          "name": "stdout"
        }
      ]
    },
    {
      "cell_type": "markdown",
      "metadata": {
        "id": "DJCxQp-uZeUI",
        "colab_type": "text"
      },
      "source": [
        "## 4.Write a python program to calculate area of triangle."
      ]
    },
    {
      "cell_type": "code",
      "metadata": {
        "id": "kmtGC1FmZ8Zg",
        "colab_type": "code",
        "colab": {
          "base_uri": "https://localhost:8080/",
          "height": 84
        },
        "outputId": "b9f584c9-c87d-4ea5-86eb-fcfc62c71e8f"
      },
      "source": [
        "a=float(input('enter first side:'))\n",
        "b=float(input('enter second side:'))\n",
        "c=float(input('enter third side:'))\n",
        "s=(a+b+c)/2\n",
        "area=(s*(s-a)*(s-b)*(s-c))**0.5\n",
        "print('The area of triangle is%0.2f' %area)"
      ],
      "execution_count": 6,
      "outputs": [
        {
          "output_type": "stream",
          "text": [
            "enter first side:20\n",
            "enter second side:20\n",
            "enter third side:10\n",
            "The area of triangle is96.82\n"
          ],
          "name": "stdout"
        }
      ]
    },
    {
      "cell_type": "markdown",
      "metadata": {
        "id": "O7aThfcbbqYb",
        "colab_type": "text"
      },
      "source": [
        "## 5.write  python program to convert temperature in celsius to fahrenheit."
      ]
    },
    {
      "cell_type": "code",
      "metadata": {
        "id": "Gsd-BIdPccLL",
        "colab_type": "code",
        "colab": {
          "base_uri": "https://localhost:8080/",
          "height": 33
        },
        "outputId": "73b2fc87-376d-4987-ff97-f0b61ccb0289"
      },
      "source": [
        "celsius = 37.5\n",
        "fahrenheit = (celsius * 1.8)+32\n",
        "print('%0.1f degree celsius is equal to %0.1f degree fahrenheit' %(celsius,fahrenheit))"
      ],
      "execution_count": 8,
      "outputs": [
        {
          "output_type": "stream",
          "text": [
            "37.5 degree celsius is equal to 99.5 degree fahrenheit\n"
          ],
          "name": "stdout"
        }
      ]
    },
    {
      "cell_type": "markdown",
      "metadata": {
        "id": "7NGPHghid3Mr",
        "colab_type": "text"
      },
      "source": [
        "## 6.write  python program to calculate area of rectangle."
      ]
    },
    {
      "cell_type": "code",
      "metadata": {
        "id": "KMTb3IS_eCjW",
        "colab_type": "code",
        "colab": {
          "base_uri": "https://localhost:8080/",
          "height": 100
        },
        "outputId": "68d05ecb-3f92-42e3-da6d-094aabe132cf"
      },
      "source": [
        "width = float(input('please enter the width of a rectangle:'))\n",
        "height = float(input('please enter the height of a rectangle:'))\n",
        "area = width * height\n",
        "perimeter = 2 * (width + height)\n",
        "print(\"\\n area of rectangle is: %.2f\" %area)\n",
        "print(\"perimeter of rectangle is: %.2f\" %perimeter)"
      ],
      "execution_count": 9,
      "outputs": [
        {
          "output_type": "stream",
          "text": [
            "please enter the width of a rectangle:8\n",
            "please enter the height of a rectangle:6\n",
            "\n",
            " area of rectangle is: 48.00\n",
            "perimeter of rectangle is: 28.00\n"
          ],
          "name": "stdout"
        }
      ]
    },
    {
      "cell_type": "markdown",
      "metadata": {
        "id": "l7w4wiGrfrX6",
        "colab_type": "text"
      },
      "source": [
        "## 7.write a python program to calculate perimeter of a square."
      ]
    },
    {
      "cell_type": "code",
      "metadata": {
        "id": "t-jMNXkrf9he",
        "colab_type": "code",
        "colab": {
          "base_uri": "https://localhost:8080/",
          "height": 84
        },
        "outputId": "cf1f5a74-4420-46df-85df-37a714ab5647"
      },
      "source": [
        "print(\"enter 'x' for exit.\");\n",
        "side = input (\"enter side length of square:\");\n",
        "if side == 'x':\n",
        "  exit();\n",
        "else:\n",
        "  slength = int(side);\n",
        "  perimeter = 4*slength;\n",
        "print(\"\\nperimeter of square:\",perimeter);"
      ],
      "execution_count": 10,
      "outputs": [
        {
          "output_type": "stream",
          "text": [
            "enter 'x' for exit.\n",
            "enter side length of square:5\n",
            "\n",
            "perimeter of square: 20\n"
          ],
          "name": "stdout"
        }
      ]
    },
    {
      "cell_type": "markdown",
      "metadata": {
        "id": "tO7wD3TFhqQN",
        "colab_type": "text"
      },
      "source": [
        "## 8.write a python program to calculate circumference of a circle."
      ]
    },
    {
      "cell_type": "code",
      "metadata": {
        "id": "klsp_mRpiT6y",
        "colab_type": "code",
        "colab": {
          "base_uri": "https://localhost:8080/",
          "height": 33
        },
        "outputId": "94a72fda-6aea-4d9a-e102-0de7686d4741"
      },
      "source": [
        "PI = 3.1415\n",
        "def circumference(r):\n",
        "  return (2 * PI * r)\n",
        "print ('%.3f' % circumference(5))"
      ],
      "execution_count": 11,
      "outputs": [
        {
          "output_type": "stream",
          "text": [
            "31.415\n"
          ],
          "name": "stdout"
        }
      ]
    },
    {
      "cell_type": "markdown",
      "metadata": {
        "id": "AwE1Y1D-i1b2",
        "colab_type": "text"
      },
      "source": [
        "## 9.write a python program to swap two numbers."
      ]
    },
    {
      "cell_type": "code",
      "metadata": {
        "id": "8BqmlcL-i9SE",
        "colab_type": "code",
        "colab": {
          "base_uri": "https://localhost:8080/",
          "height": 117
        },
        "outputId": "502b901a-f0ba-42ce-9c8e-5c216627ff38"
      },
      "source": [
        "num1 = input('enter first number:')\n",
        "num2 = input('enter second number:')\n",
        "print(\"value of num1 before swapping:\",num1)\n",
        "print(\"value of num2 before swapping:\",num2)\n",
        "temp = num1\n",
        "num1 = num2\n",
        "num2 = temp\n",
        "print(\"value of num1 after swapping:\",num1)\n",
        "print(\"value of num2 after swapping:\",num2)"
      ],
      "execution_count": 12,
      "outputs": [
        {
          "output_type": "stream",
          "text": [
            "enter first number:101\n",
            "enter second number:99\n",
            "value of num1 before swapping: 101\n",
            "value of num2 before swapping: 99\n",
            "value of num1 after swapping: 99\n",
            "value of num2 after swapping: 101\n"
          ],
          "name": "stdout"
        }
      ]
    }
  ]
}