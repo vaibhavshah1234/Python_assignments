{
  "nbformat": 4,
  "nbformat_minor": 0,
  "metadata": {
    "colab": {
      "name": "Python_assignment14.ipynb",
      "provenance": []
    },
    "kernelspec": {
      "name": "python3",
      "display_name": "Python 3"
    }
  },
  "cells": [
    {
      "cell_type": "markdown",
      "metadata": {
        "id": "UepOWSv5LTd5",
        "colab_type": "text"
      },
      "source": [
        "## 1.program to convert a tuple to a dictionary"
      ]
    },
    {
      "cell_type": "code",
      "metadata": {
        "id": "qeJUpgmmKG3K",
        "colab_type": "code",
        "colab": {
          "base_uri": "https://localhost:8080/",
          "height": 34
        },
        "outputId": "759b9f47-ca73-45b4-aec1-42e85e0d91de"
      },
      "source": [
        "tuplex = ((2, \"W\"),(3, \"r\"))\n",
        "print(dict((y,x) for x,y in tuplex))"
      ],
      "execution_count": 1,
      "outputs": [
        {
          "output_type": "stream",
          "text": [
            "{'W': 2, 'r': 3}\n"
          ],
          "name": "stdout"
        }
      ]
    },
    {
      "cell_type": "markdown",
      "metadata": {
        "id": "CeUCugweMf2c",
        "colab_type": "text"
      },
      "source": [
        "## 2.program to convert list of tuples to  dictionry"
      ]
    },
    {
      "cell_type": "code",
      "metadata": {
        "id": "O5OuTXWsMoSL",
        "colab_type": "code",
        "colab": {
          "base_uri": "https://localhost:8080/",
          "height": 34
        },
        "outputId": "c2464127-b884-4a40-be1d-8f84ff9c1337"
      },
      "source": [
        "def listtodict(A, di):\n",
        "  di = dict(A)\n",
        "  return di\n",
        "\n",
        "A = [(\"aishu\", 5),(\"ice\", 5),(\"aish\", 7),(\"icecream\", 25),(\"perk\", 30)]\n",
        "di = {}\n",
        "print(\"the dictionary is ::>\",listtodict(A, di))"
      ],
      "execution_count": 2,
      "outputs": [
        {
          "output_type": "stream",
          "text": [
            "the dictionary is ::> {'aishu': 5, 'ice': 5, 'aish': 7, 'icecream': 25, 'perk': 30}\n"
          ],
          "name": "stdout"
        }
      ]
    }
  ]
}