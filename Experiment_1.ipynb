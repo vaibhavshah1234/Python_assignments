{
  "nbformat": 4,
  "nbformat_minor": 0,
  "metadata": {
    "colab": {
      "name": "Experiment 1",
      "provenance": [],
      "authorship_tag": "ABX9TyMYTzPKMWPUTDHLAPYYZGq2",
      "include_colab_link": true
    },
    "kernelspec": {
      "name": "python3",
      "display_name": "Python 3"
    }
  },
  "cells": [
    {
      "cell_type": "markdown",
      "metadata": {
        "id": "view-in-github",
        "colab_type": "text"
      },
      "source": [
        "<a href=\"https://colab.research.google.com/github/aishwarya756/Python-Assignments/blob/master/Experiment_1.ipynb\" target=\"_parent\"><img src=\"https://colab.research.google.com/assets/colab-badge.svg\" alt=\"Open In Colab\"/></a>"
      ]
    },
    {
      "cell_type": "markdown",
      "metadata": {
        "id": "eoGMD1PjR8FC",
        "colab_type": "text"
      },
      "source": [
        "## 1.Find minimum of three numbers"
      ]
    },
    {
      "cell_type": "code",
      "metadata": {
        "id": "vMKTwf2CRnTX",
        "colab_type": "code",
        "colab": {
          "base_uri": "https://localhost:8080/",
          "height": 34
        },
        "outputId": "4d544940-20bc-433b-f364-27f9fc1a7803"
      },
      "source": [
        "a, b, c = 5, 7, 10\n",
        "\n",
        "if(a <= b and a <= c): \n",
        "\tprint(a, \"is the smallest\") \n",
        "\n",
        "elif(b <= a and b <= c): \n",
        "\tprint(b, \"is the smallest\") \n",
        "else: \n",
        "\tprint(c, \"is the smallest\") "
      ],
      "execution_count": 1,
      "outputs": [
        {
          "output_type": "stream",
          "text": [
            "5 is the smallest\n"
          ],
          "name": "stdout"
        }
      ]
    },
    {
      "cell_type": "markdown",
      "metadata": {
        "id": "TVgzBOq6StJW",
        "colab_type": "text"
      },
      "source": [
        "## 2.Find the GCD and LCM of two/three numbers"
      ]
    },
    {
      "cell_type": "code",
      "metadata": {
        "id": "Kza_2E6yS2uc",
        "colab_type": "code",
        "colab": {
          "base_uri": "https://localhost:8080/",
          "height": 67
        },
        "outputId": "a1bae62e-8052-4a70-ffb9-5e1bcebae6ad"
      },
      "source": [
        "def gcd(a,b):\n",
        "  if(b==0):\n",
        "    return a\n",
        "  else:\n",
        "    return gcd(b,a%b)\n",
        "a=int(input())\n",
        "b=int(input())\n",
        "GCD=gcd(a,b)\n",
        "print(GCD)"
      ],
      "execution_count": 4,
      "outputs": [
        {
          "output_type": "stream",
          "text": [
            "15\n",
            "75\n",
            "15\n"
          ],
          "name": "stdout"
        }
      ]
    },
    {
      "cell_type": "code",
      "metadata": {
        "id": "efdgZs2IUo3h",
        "colab_type": "code",
        "colab": {
          "base_uri": "https://localhost:8080/",
          "height": 67
        },
        "outputId": "bf3ba450-3815-4ceb-ad3a-88b9a39061d7"
      },
      "source": [
        "num1 = int(input())\n",
        "num2 = int(input())\n",
        "if(num1 > num2 ):   # Use If condition to find the greatest number among these two.\n",
        "    max= num1\n",
        "else:\n",
        "    max= num2\n",
        "while(True):\n",
        "    if(max % num1 == 0 and max % num2 == 0):   \n",
        "        print(max)\n",
        "        break;\n",
        "    max= max+ 1"
      ],
      "execution_count": 6,
      "outputs": [
        {
          "output_type": "stream",
          "text": [
            "45\n",
            "25\n",
            "225\n"
          ],
          "name": "stdout"
        }
      ]
    },
    {
      "cell_type": "markdown",
      "metadata": {
        "id": "4Vl9JZ08U9Xx",
        "colab_type": "text"
      },
      "source": [
        "## 3.Check whether the given number is perfect\n"
      ]
    },
    {
      "cell_type": "code",
      "metadata": {
        "id": "yT8yFY_HVFZY",
        "colab_type": "code",
        "colab": {
          "base_uri": "https://localhost:8080/",
          "height": 34
        },
        "outputId": "4dc9a310-a224-48f0-fa41-f669a40e659d"
      },
      "source": [
        "def perfect_number(n):\n",
        "    sum = 0\n",
        "    for x in range(1, n):\n",
        "        if n % x == 0:\n",
        "            sum += x\n",
        "    return sum == n\n",
        "print(perfect_number(6))"
      ],
      "execution_count": 7,
      "outputs": [
        {
          "output_type": "stream",
          "text": [
            "True\n"
          ],
          "name": "stdout"
        }
      ]
    },
    {
      "cell_type": "markdown",
      "metadata": {
        "id": "PsXVv7nWVu05",
        "colab_type": "text"
      },
      "source": [
        "## 4.Print twin primes up to a specified limit"
      ]
    },
    {
      "cell_type": "code",
      "metadata": {
        "id": "3iijuNeeV6qR",
        "colab_type": "code",
        "colab": {
          "base_uri": "https://localhost:8080/",
          "height": 151
        },
        "outputId": "7d1a3414-a926-4df2-d5dd-5626a5ba3d86"
      },
      "source": [
        "def is_prime(n):\n",
        "   for i in range(2, n):\n",
        "      if n % i == 0:\n",
        "         return False\n",
        "   return True\n",
        "\n",
        "def generate_twins(start, end):\n",
        "   for i in range(start, end):\n",
        "      j = i + 2\n",
        "      if(is_prime(i) and is_prime(j)):\n",
        "         print(\"{:d} and {:d}\".format(i, j))\n",
        "\n",
        "generate_twins(2, 100)"
      ],
      "execution_count": 8,
      "outputs": [
        {
          "output_type": "stream",
          "text": [
            "3 and 5\n",
            "5 and 7\n",
            "11 and 13\n",
            "17 and 19\n",
            "29 and 31\n",
            "41 and 43\n",
            "59 and 61\n",
            "71 and 73\n"
          ],
          "name": "stdout"
        }
      ]
    },
    {
      "cell_type": "markdown",
      "metadata": {
        "id": "Uasy1lWOWXFG",
        "colab_type": "text"
      },
      "source": [
        "## 5.Print the prime numbers upto a specified limit"
      ]
    },
    {
      "cell_type": "code",
      "metadata": {
        "id": "-1auhBbvWjhk",
        "colab_type": "code",
        "colab": {
          "base_uri": "https://localhost:8080/",
          "height": 269
        },
        "outputId": "891db7e7-b0b8-45ac-80eb-f657f5300582"
      },
      "source": [
        "lower = 900\n",
        "upper = 1000\n",
        "\n",
        "print(\"Prime numbers between\", lower, \"and\", upper, \"are:\")\n",
        "\n",
        "for num in range(lower, upper + 1):\n",
        "   if num > 1:\n",
        "       for i in range(2, num):\n",
        "           if (num % i) == 0:\n",
        "               break\n",
        "       else:\n",
        "           print(num)"
      ],
      "execution_count": 9,
      "outputs": [
        {
          "output_type": "stream",
          "text": [
            "Prime numbers between 900 and 1000 are:\n",
            "907\n",
            "911\n",
            "919\n",
            "929\n",
            "937\n",
            "941\n",
            "947\n",
            "953\n",
            "967\n",
            "971\n",
            "977\n",
            "983\n",
            "991\n",
            "997\n"
          ],
          "name": "stdout"
        }
      ]
    },
    {
      "cell_type": "markdown",
      "metadata": {
        "id": "PYYSv1zEW8aQ",
        "colab_type": "text"
      },
      "source": [
        "## 6.Find the sum of digits of a number. Check whether given number is Armstrong number or not"
      ]
    },
    {
      "cell_type": "code",
      "metadata": {
        "id": "a_MVuYzBXOys",
        "colab_type": "code",
        "colab": {
          "base_uri": "https://localhost:8080/",
          "height": 50
        },
        "outputId": "8373b18b-5d61-43a3-a122-8cd65a9dc860"
      },
      "source": [
        "num = int(input(\"Enter a number: \"))\n",
        "\n",
        "sum = 0\n",
        "temp = num\n",
        "while temp > 0:\n",
        "   digit = temp % 10\n",
        "   sum += digit ** 3\n",
        "   temp //= 10\n",
        "\n",
        "if num == sum:\n",
        "   print(num,\"is an Armstrong number\")\n",
        "else:\n",
        "   print(num,\"is not an Armstrong number\")"
      ],
      "execution_count": 13,
      "outputs": [
        {
          "output_type": "stream",
          "text": [
            "Enter a number: 407\n",
            "407 is an Armstrong number\n"
          ],
          "name": "stdout"
        }
      ]
    },
    {
      "cell_type": "code",
      "metadata": {
        "id": "8zKNOBy4X4ee",
        "colab_type": "code",
        "colab": {
          "base_uri": "https://localhost:8080/",
          "height": 50
        },
        "outputId": "18022b38-8d7d-4ac3-b1ad-eab6a1a41dde"
      },
      "source": [
        "num = int(input(\"Enter a number: \"))\n",
        "\n",
        "sum = 0\n",
        "temp = num\n",
        "while temp > 0:\n",
        "   digit = temp % 10\n",
        "   sum += digit ** 3\n",
        "   temp //= 10\n",
        "\n",
        "if num == sum:\n",
        "   print(num,\"is an Armstrong number\")\n",
        "else:\n",
        "   print(num,\"is not an Armstrong number\")"
      ],
      "execution_count": 14,
      "outputs": [
        {
          "output_type": "stream",
          "text": [
            "Enter a number: 43\n",
            "43 is not an Armstrong number\n"
          ],
          "name": "stdout"
        }
      ]
    },
    {
      "cell_type": "markdown",
      "metadata": {
        "id": "NEObQxThYHTL",
        "colab_type": "text"
      },
      "source": [
        "## 7.Swapping of two numbers\n"
      ]
    },
    {
      "cell_type": "code",
      "metadata": {
        "id": "a9-6PeQzY5IL",
        "colab_type": "code",
        "colab": {
          "base_uri": "https://localhost:8080/",
          "height": 84
        },
        "outputId": "0f4fd019-e5f2-404f-d650-31ff019c825d"
      },
      "source": [
        "x = 5\n",
        "y = 7\n",
        "\n",
        "print (\"Before swapping: \") \n",
        "print(\"Value of x : \", x, \" and y : \", y) \n",
        "\n",
        "x, y = y, x \n",
        "\n",
        "print (\"After swapping: \") \n",
        "print(\"Value of x : \", x, \" and y : \", y) \n"
      ],
      "execution_count": 15,
      "outputs": [
        {
          "output_type": "stream",
          "text": [
            "Before swapping: \n",
            "Value of x :  5  and y :  7\n",
            "After swapping: \n",
            "Value of x :  7  and y :  5\n"
          ],
          "name": "stdout"
        }
      ]
    },
    {
      "cell_type": "markdown",
      "metadata": {
        "id": "Eazk4KAHZAX4",
        "colab_type": "text"
      },
      "source": [
        "## 8.Perform all the five arithmetic operations"
      ]
    },
    {
      "cell_type": "code",
      "metadata": {
        "id": "8Hr9H5O7ZPeg",
        "colab_type": "code",
        "colab": {
          "base_uri": "https://localhost:8080/",
          "height": 101
        },
        "outputId": "a992430a-16fe-4c43-88f7-d49e0cfb6179"
      },
      "source": [
        "a = 21\n",
        "b = 10\n",
        "c = 0\n",
        "\n",
        "c = a + b\n",
        "print (\"Addition - Value of c is \", c)\n",
        "\n",
        "c = a - b\n",
        "print (\"Subtraction - Value of c is \", c)\n",
        "\n",
        "c = a * b\n",
        "print (\"Multiplication - Value of c is \", c)\n",
        "\n",
        "c = a / b\n",
        "print (\"Division - Value of c is \", c)\n",
        "\n",
        "c = a % b\n",
        "print (\"Modulus - Value of c is \", c)"
      ],
      "execution_count": 18,
      "outputs": [
        {
          "output_type": "stream",
          "text": [
            "Addition - Value of c is  31\n",
            "Subtraction - Value of c is  11\n",
            "Multiplication - Value of c is  210\n",
            "Division - Value of c is  2.1\n",
            "Modulus - Value of c is  1\n"
          ],
          "name": "stdout"
        }
      ]
    }
  ]
}