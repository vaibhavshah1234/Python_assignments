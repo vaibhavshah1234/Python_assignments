{
  "nbformat": 4,
  "nbformat_minor": 0,
  "metadata": {
    "colab": {
      "name": "Python_assignment4.ipynb",
      "provenance": []
    },
    "kernelspec": {
      "name": "python3",
      "display_name": "Python 3"
    }
  },
  "cells": [
    {
      "cell_type": "markdown",
      "metadata": {
        "id": "_SpMjQXYTpiQ",
        "colab_type": "text"
      },
      "source": [
        "## 1.write a python function to find the maximum of three numbers"
      ]
    },
    {
      "cell_type": "code",
      "metadata": {
        "id": "0XHq7fw0ShIQ",
        "colab_type": "code",
        "colab": {
          "base_uri": "https://localhost:8080/",
          "height": 33
        },
        "outputId": "88491e5e-03b0-4388-bf4b-374f34297f8c"
      },
      "source": [
        "def max_of_three(a,b,c):\n",
        "  if a>b and a>c:\n",
        "    print(a,\"is the maximum of three numbers\")\n",
        "  elif b>c and b>a:\n",
        "    print(b,\"is the maximum of three numbers\")\n",
        "  else:\n",
        "    print(c,\"is the maximum of three numbers\")\n",
        "max_of_three(13,27,35)"
      ],
      "execution_count": 3,
      "outputs": [
        {
          "output_type": "stream",
          "text": [
            "35 is the maximum of three numbers\n"
          ],
          "name": "stdout"
        }
      ]
    },
    {
      "cell_type": "markdown",
      "metadata": {
        "id": "wkLLWvwHVAUq",
        "colab_type": "text"
      },
      "source": [
        "## 2.write a python program to reverse a string"
      ]
    },
    {
      "cell_type": "code",
      "metadata": {
        "id": "_YEEtRtVVJ5C",
        "colab_type": "code",
        "colab": {
          "base_uri": "https://localhost:8080/",
          "height": 50
        },
        "outputId": "d4c78652-d4f7-4052-b94b-b3a2b9787274"
      },
      "source": [
        "def reverse(str):\n",
        "  s=\"\"\n",
        "  for ch in str:\n",
        "      s = ch + s\n",
        "  return s\n",
        "mystr = \"1234aishu\"\n",
        "print(\"given String: \",mystr)\n",
        "print(\"Reversed String: \", reverse(mystr))"
      ],
      "execution_count": 15,
      "outputs": [
        {
          "output_type": "stream",
          "text": [
            "given String:  1234aishu\n",
            "Reversed String:  uhsia4321\n"
          ],
          "name": "stdout"
        }
      ]
    },
    {
      "cell_type": "markdown",
      "metadata": {
        "id": "SL9uRVX5YT9O",
        "colab_type": "text"
      },
      "source": [
        "## 3.write a python function to check whether the number is prime or not"
      ]
    },
    {
      "cell_type": "code",
      "metadata": {
        "id": "QOGvZfMQYfnJ",
        "colab_type": "code",
        "colab": {
          "base_uri": "https://localhost:8080/",
          "height": 33
        },
        "outputId": "84fd1def-e6d3-4fa1-8462-2e55ca9e3d09"
      },
      "source": [
        "num = 11\n",
        "if num > 1:\n",
        "  for i in range(2, num):\n",
        "    if(num % i) == 0:\n",
        "      print(num, \"is not a prime number\")\n",
        "      break\n",
        "  else:\n",
        "    print(num, \"is a prime number\")\n",
        "else:\n",
        "  print(num, \"is not a prime number\")"
      ],
      "execution_count": 20,
      "outputs": [
        {
          "output_type": "stream",
          "text": [
            "11 is a prime number\n"
          ],
          "name": "stdout"
        }
      ]
    },
    {
      "cell_type": "code",
      "metadata": {
        "id": "BRoT6sO4Z522",
        "colab_type": "code",
        "colab": {
          "base_uri": "https://localhost:8080/",
          "height": 33
        },
        "outputId": "6a4a9516-c921-44af-8c90-b14698f39659"
      },
      "source": [
        "num = 27\n",
        "if num > 1:\n",
        "  for i in range(2, num):\n",
        "    if(num % i) == 0:\n",
        "      print(num, \"is not a prime number\")\n",
        "      break\n",
        "  else:\n",
        "    print(num, \"is a prime number\")\n",
        "else:\n",
        "  print(num, \"is not a prime number\")"
      ],
      "execution_count": 17,
      "outputs": [
        {
          "output_type": "stream",
          "text": [
            "27 is not a prime number\n"
          ],
          "name": "stdout"
        }
      ]
    },
    {
      "cell_type": "markdown",
      "metadata": {
        "id": "kqWeBvZYaM6f",
        "colab_type": "text"
      },
      "source": [
        "## 5.write a python function to find sum of squares of first n natural numbers"
      ]
    },
    {
      "cell_type": "code",
      "metadata": {
        "id": "LyiIS2m-aawb",
        "colab_type": "code",
        "colab": {
          "base_uri": "https://localhost:8080/",
          "height": 33
        },
        "outputId": "7f106bd3-e794-4d94-e599-b8ce372a2d08"
      },
      "source": [
        "def squaresum(n) :\n",
        "  sm = 0\n",
        "  for i in range(1, n+1) :\n",
        "    sm = sm + (i * i)\n",
        "  return sm\n",
        "n = 4\n",
        "print(squaresum(n))"
      ],
      "execution_count": 26,
      "outputs": [
        {
          "output_type": "stream",
          "text": [
            "30\n"
          ],
          "name": "stdout"
        }
      ]
    }
  ]
}