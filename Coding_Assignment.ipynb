{
  "nbformat": 4,
  "nbformat_minor": 0,
  "metadata": {
    "colab": {
      "name": "Coding Assignment-1",
      "provenance": [],
      "authorship_tag": "ABX9TyMbY66Dv2zjLzo+vvaNPa2g"
    },
    "kernelspec": {
      "name": "python3",
      "display_name": "Python 3"
    }
  },
  "cells": [
    {
      "cell_type": "markdown",
      "metadata": {
        "id": "OJLdVGK3NKeT"
      },
      "source": [
        "## 1.write a recursive function to print prime numbers between 1 to 100"
      ]
    },
    {
      "cell_type": "code",
      "metadata": {
        "id": "OYttBQrSL7NO",
        "outputId": "fc5c1d59-84b3-4aac-a9ea-6732d084e7d2",
        "colab": {
          "base_uri": "https://localhost:8080/"
        }
      },
      "source": [
        "lower = 1\n",
        "upper = 100\n",
        "\n",
        "print(\"Prime numbers between\", lower, \"and\", upper, \"are:\")\n",
        "\n",
        "for num in range(lower, upper + 1):\n",
        "   # all prime numbers are greater than 1\n",
        "   if num > 1:\n",
        "       for i in range(2, num):\n",
        "           if (num % i) == 0:\n",
        "               break\n",
        "       else:\n",
        "           print(num)"
      ],
      "execution_count": 2,
      "outputs": [
        {
          "output_type": "stream",
          "text": [
            "Prime numbers between 1 and 100 are:\n",
            "2\n",
            "3\n",
            "5\n",
            "7\n",
            "11\n",
            "13\n",
            "17\n",
            "19\n",
            "23\n",
            "29\n",
            "31\n",
            "37\n",
            "41\n",
            "43\n",
            "47\n",
            "53\n",
            "59\n",
            "61\n",
            "67\n",
            "71\n",
            "73\n",
            "79\n",
            "83\n",
            "89\n",
            "97\n"
          ],
          "name": "stdout"
        }
      ]
    },
    {
      "cell_type": "markdown",
      "metadata": {
        "id": "FUlraN-JPe0Q"
      },
      "source": [
        "## 2.write a recursive function to print sum of numbers between 1 to 100 which are divisible by 3 and 7."
      ]
    },
    {
      "cell_type": "code",
      "metadata": {
        "id": "8nq6WR4PQ8xi",
        "outputId": "a7e5a949-11f1-49f8-8ce2-252ddde2c890",
        "colab": {
          "base_uri": "https://localhost:8080/"
        }
      },
      "source": [
        "def result(N): \n",
        "      \n",
        "    # iterate from 0 to N \n",
        "    for num in range(N): \n",
        "          \n",
        "            # Short-circuit operator is used  \n",
        "            if num % 3 == 0 and num % 7 == 0: \n",
        "                print(str(num) + \" \", end = \"\") \n",
        "                  \n",
        "            else: \n",
        "                pass\n",
        "  \n",
        "# Driver code \n",
        "if __name__ == \"__main__\": \n",
        "      \n",
        "    # input goes here \n",
        "    N = 100\n",
        "      \n",
        "    # Calling function \n",
        "    result(N) "
      ],
      "execution_count": 4,
      "outputs": [
        {
          "output_type": "stream",
          "text": [
            "0 21 42 63 84 "
          ],
          "name": "stdout"
        }
      ]
    }
  ]
}