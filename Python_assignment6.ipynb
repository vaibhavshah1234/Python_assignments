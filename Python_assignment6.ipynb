{
  "nbformat": 4,
  "nbformat_minor": 0,
  "metadata": {
    "colab": {
      "name": "Python_assignment6.ipynb",
      "provenance": [],
      "collapsed_sections": []
    },
    "kernelspec": {
      "name": "python3",
      "display_name": "Python 3"
    }
  },
  "cells": [
    {
      "cell_type": "markdown",
      "metadata": {
        "id": "H8JGu4zHzXen",
        "colab_type": "text"
      },
      "source": [
        "## 1.covert binary number to decimal"
      ]
    },
    {
      "cell_type": "code",
      "metadata": {
        "id": "qHBGHPr9sv53",
        "colab_type": "code",
        "colab": {
          "base_uri": "https://localhost:8080/",
          "height": 50
        },
        "outputId": "d1ed3a4a-9a18-47c6-dd29-343771318fc1"
      },
      "source": [
        "num=int(input(\"enter the binary value of a number: \"))\n",
        "decimal=0\n",
        "base_value=1\n",
        "temp=num\n",
        "\n",
        "while temp!=0:\n",
        "  last_digit=temp%10\n",
        "  temp=int(temp/10)\n",
        "  decimal+=last_digit*base_value\n",
        "  base_value=base_value*2\n",
        "print(\"the value of the binary number\",num,\"in decimal form is\",decimal)"
      ],
      "execution_count": 1,
      "outputs": [
        {
          "output_type": "stream",
          "text": [
            "enter the binary value of a number: 112\n",
            "the value of the binary number 112 in decimal form is 8\n"
          ],
          "name": "stdout"
        }
      ]
    },
    {
      "cell_type": "markdown",
      "metadata": {
        "id": "Dq0bWbux25qG",
        "colab_type": "text"
      },
      "source": [
        "## 2.generate first n fibonacci series"
      ]
    },
    {
      "cell_type": "code",
      "metadata": {
        "id": "fG4pbvN33CxC",
        "colab_type": "code",
        "colab": {
          "base_uri": "https://localhost:8080/",
          "height": 201
        },
        "outputId": "ad3c3e49-6295-46cd-c1da-86cacfada82a"
      },
      "source": [
        "n=int(input(\"enter the value of n: \"))\n",
        "n1, n2 = 0,1\n",
        "count=0\n",
        "print(\"fibonacci sequence upto\",n,\"terms is: \")\n",
        "while count<n:\n",
        "    print(n1)\n",
        "    nth=n1+n2\n",
        "    n1=n2\n",
        "    n2=nth\n",
        "    count+=1"
      ],
      "execution_count": 3,
      "outputs": [
        {
          "output_type": "stream",
          "text": [
            "enter the value of n: 9\n",
            "fibonacci sequence upto 9 terms is: \n",
            "0\n",
            "1\n",
            "1\n",
            "2\n",
            "3\n",
            "5\n",
            "8\n",
            "13\n",
            "21\n"
          ],
          "name": "stdout"
        }
      ]
    },
    {
      "cell_type": "markdown",
      "metadata": {
        "id": "OPVdg6il4nnG",
        "colab_type": "text"
      },
      "source": [
        "## 3.display multiplication table of k.take k value from user"
      ]
    },
    {
      "cell_type": "code",
      "metadata": {
        "id": "UO2JKGIr5lOy",
        "colab_type": "code",
        "colab": {
          "base_uri": "https://localhost:8080/",
          "height": 217
        },
        "outputId": "991a4905-ec0f-4bb3-a2b3-5ad9074ee665"
      },
      "source": [
        "k=int(input(\"enter a number to print the multiplication table: \"))\n",
        "print(\"multipliction table:\")\n",
        "for i in range(1,11):\n",
        "  print(k,\"*\",i,\"=\",k*i)"
      ],
      "execution_count": 4,
      "outputs": [
        {
          "output_type": "stream",
          "text": [
            "enter a number to print the multiplication table: 7\n",
            "multipliction table:\n",
            "7 * 1 = 7\n",
            "7 * 2 = 14\n",
            "7 * 3 = 21\n",
            "7 * 4 = 28\n",
            "7 * 5 = 35\n",
            "7 * 6 = 42\n",
            "7 * 7 = 49\n",
            "7 * 8 = 56\n",
            "7 * 9 = 63\n",
            "7 * 10 = 70\n"
          ],
          "name": "stdout"
        }
      ]
    },
    {
      "cell_type": "markdown",
      "metadata": {
        "id": "oJ_73_0R6x-r",
        "colab_type": "text"
      },
      "source": [
        "## 4.take 10 integers from keybord using loop nd print their average value on the screen print the following patterns using loop:\n",
        "      *\n",
        "\n",
        "      **\n",
        "\n",
        "      ***\n",
        "\n",
        "      ****"
      ]
    },
    {
      "cell_type": "code",
      "metadata": {
        "id": "1_VM-SQf7xRK",
        "colab_type": "code",
        "colab": {
          "base_uri": "https://localhost:8080/",
          "height": 184
        },
        "outputId": "3bdf2ff0-0e77-4027-c81e-a47c8752e864"
      },
      "source": [
        "for num in range(1,11):\n",
        "    num= int(input(\"enter a value: \"))"
      ],
      "execution_count": 5,
      "outputs": [
        {
          "output_type": "stream",
          "text": [
            "enter a value: 4\n",
            "enter a value: 3\n",
            "enter a value: 2\n",
            "enter a value: 1\n",
            "enter a value: 0\n",
            "enter a value: 5\n",
            "enter a value: 6\n",
            "enter a value: 7\n",
            "enter a value: 8\n",
            "enter a value: 9\n"
          ],
          "name": "stdout"
        }
      ]
    },
    {
      "cell_type": "code",
      "metadata": {
        "id": "1NUsXaN38Tl_",
        "colab_type": "code",
        "colab": {
          "base_uri": "https://localhost:8080/",
          "height": 84
        },
        "outputId": "8d055ad4-e936-406f-99ad-9908dc111a9c"
      },
      "source": [
        "rows = 4\n",
        "for row in range(1, rows+1):\n",
        "  for column in range(1, row+1):\n",
        "    print(\"*\",end=\"\")\n",
        "  print(\"\")"
      ],
      "execution_count": 6,
      "outputs": [
        {
          "output_type": "stream",
          "text": [
            "*\n",
            "**\n",
            "***\n",
            "****\n"
          ],
          "name": "stdout"
        }
      ]
    },
    {
      "cell_type": "markdown",
      "metadata": {
        "id": "-NgnpSeC88_y",
        "colab_type": "text"
      },
      "source": [
        "## 5.write a program to find gcd of two numbers"
      ]
    },
    {
      "cell_type": "code",
      "metadata": {
        "id": "ULCrZeMp9EyR",
        "colab_type": "code",
        "colab": {
          "base_uri": "https://localhost:8080/",
          "height": 67
        },
        "outputId": "ae79cb85-20cf-47d9-dbb9-83709b4cc0e6"
      },
      "source": [
        "import math\n",
        "n1= int(input(\"enter number 1:\"))\n",
        "n2= int(input(\"enter number 2:\"))\n",
        "print(math.gcd(n1,n2),\"is the GCD of\",n1,\"and\",n2)"
      ],
      "execution_count": 7,
      "outputs": [
        {
          "output_type": "stream",
          "text": [
            "enter number 1:27\n",
            "enter number 2:35\n",
            "1 is the GCD of 27 and 35\n"
          ],
          "name": "stdout"
        }
      ]
    },
    {
      "cell_type": "markdown",
      "metadata": {
        "id": "Yjdm9U1994oL",
        "colab_type": "text"
      },
      "source": [
        "## 6.write program that accepts a word from the user and reverse it "
      ]
    },
    {
      "cell_type": "code",
      "metadata": {
        "id": "6B9GE7Vk-QqZ",
        "colab_type": "code",
        "colab": {
          "base_uri": "https://localhost:8080/",
          "height": 50
        },
        "outputId": "ef3ff99f-3d14-4a5c-8054-d324490d2fd9"
      },
      "source": [
        "word=input(\"enter a word: \")\n",
        "reverse=word[::-1]\n",
        "print(\"reverse of\",word,\"is\",reverse)"
      ],
      "execution_count": 9,
      "outputs": [
        {
          "output_type": "stream",
          "text": [
            "enter a word: germany\n",
            "reverse of germany is ynamreg\n"
          ],
          "name": "stdout"
        }
      ]
    },
    {
      "cell_type": "markdown",
      "metadata": {
        "id": "NMLWvtxL_I8i",
        "colab_type": "text"
      },
      "source": [
        "## 7.write a program to count the number of even nd odd numbers from a series of numbers"
      ]
    },
    {
      "cell_type": "code",
      "metadata": {
        "id": "jNqLO7xmAFgb",
        "colab_type": "code",
        "colab": {
          "base_uri": "https://localhost:8080/",
          "height": 84
        },
        "outputId": "a5306a55-b9ee-435a-872a-997a81dd400b"
      },
      "source": [
        "start=int(input(\"enter the starting number of the sequence:\"))\n",
        "end=int(input(\"enter the ending number of the sequence: \"))\n",
        "count_even=0\n",
        "count_odd=0\n",
        "for num in range(start,end+1):\n",
        "    if num%2==0:\n",
        "       count_even+=1\n",
        "    else:\n",
        "       count_odd+=1\n",
        "print(\"the number of even numbers:\",count_even)\n",
        "print(\"the number of odd numbers\",count_odd)"
      ],
      "execution_count": 14,
      "outputs": [
        {
          "output_type": "stream",
          "text": [
            "enter the starting number of the sequence:03\n",
            "enter the ending number of the sequence: 35\n",
            "the number of even numbers: 16\n",
            "the number of odd numbers 17\n"
          ],
          "name": "stdout"
        }
      ]
    },
    {
      "cell_type": "markdown",
      "metadata": {
        "id": "N2qxZr52DN3_",
        "colab_type": "text"
      },
      "source": [
        "## 8.write a program that prints all numbers from 0 to 6 except 3 and 6 "
      ]
    },
    {
      "cell_type": "code",
      "metadata": {
        "id": "gwojrxzwDkGi",
        "colab_type": "code",
        "colab": {
          "base_uri": "https://localhost:8080/",
          "height": 100
        },
        "outputId": "9e271d5e-64e7-456b-d826-11befa4ec06d"
      },
      "source": [
        "for num in range(0,6):\n",
        "    if num==3:\n",
        "        continue\n",
        "    print(num)"
      ],
      "execution_count": 15,
      "outputs": [
        {
          "output_type": "stream",
          "text": [
            "0\n",
            "1\n",
            "2\n",
            "4\n",
            "5\n"
          ],
          "name": "stdout"
        }
      ]
    }
  ]
}