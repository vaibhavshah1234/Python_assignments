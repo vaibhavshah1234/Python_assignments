{
  "nbformat": 4,
  "nbformat_minor": 0,
  "metadata": {
    "colab": {
      "name": "Python_assignment10.ipynb",
      "provenance": []
    },
    "kernelspec": {
      "name": "python3",
      "display_name": "Python 3"
    }
  },
  "cells": [
    {
      "cell_type": "markdown",
      "metadata": {
        "id": "daBpXeJRiOAM",
        "colab_type": "text"
      },
      "source": [
        "## 1.program to get a largest and smallest number from a list"
      ]
    },
    {
      "cell_type": "code",
      "metadata": {
        "id": "FZdq2bxZgiL4",
        "colab_type": "code",
        "colab": {
          "base_uri": "https://localhost:8080/",
          "height": 167
        },
        "outputId": "0ef8a8a1-6bd1-4937-de80-f80210f5b990"
      },
      "source": [
        "lst = []\n",
        "num = int(input('how many numbers: '))\n",
        "for n in range(num):\n",
        "  numbers=int(input('enter number '))\n",
        "  lst.append(numbers)\n",
        "print(\"maximum element in the list is :\", max(lst),\"\\nminimum element in the list is :\", min(lst))"
      ],
      "execution_count": 10,
      "outputs": [
        {
          "output_type": "stream",
          "text": [
            "how many numbers: 6\n",
            "enter number 35\n",
            "enter number 27\n",
            "enter number 1\n",
            "enter number 2\n",
            "enter number 3\n",
            "enter number 4\n",
            "maximum element in the list is : 35 \n",
            "minimum element in the list is : 1\n"
          ],
          "name": "stdout"
        }
      ]
    },
    {
      "cell_type": "markdown",
      "metadata": {
        "id": "VBSRHKdkmLdB",
        "colab_type": "text"
      },
      "source": [
        "## 2.program to remove duplicate from a list"
      ]
    },
    {
      "cell_type": "code",
      "metadata": {
        "id": "kwElmWk4mz2u",
        "colab_type": "code",
        "colab": {
          "base_uri": "https://localhost:8080/",
          "height": 33
        },
        "outputId": "6d21d49f-eaec-4292-cd66-f0cc36d782ba"
      },
      "source": [
        "def Remove(duplicate):\n",
        "  final_list = []\n",
        "  for num in duplicate:\n",
        "    if num not in final_list:\n",
        "      final_list.append(num)\n",
        "  return final_list\n",
        "duplicate = [3, 3, 4, 2, 5, 1, 1, 4]\n",
        "print(Remove(duplicate))"
      ],
      "execution_count": 12,
      "outputs": [
        {
          "output_type": "stream",
          "text": [
            "[3, 4, 2, 5, 1]\n"
          ],
          "name": "stdout"
        }
      ]
    },
    {
      "cell_type": "markdown",
      "metadata": {
        "id": "f_sREA2Snre4",
        "colab_type": "text"
      },
      "source": [
        "## 3.program to check list is empty or not"
      ]
    },
    {
      "cell_type": "code",
      "metadata": {
        "id": "rTpFMjZIoHgX",
        "colab_type": "code",
        "colab": {
          "base_uri": "https://localhost:8080/",
          "height": 33
        },
        "outputId": "8e01f3a3-28b8-421d-ae74-07be60eed599"
      },
      "source": [
        "def Enquiry(list1):\n",
        "  if not lis1:\n",
        "    return 1\n",
        "  else:\n",
        "    return 0\n",
        "lis1 = []\n",
        "if Enquiry(lis1):\n",
        "  print(\"the list is empty\")\n",
        "else:\n",
        "  print(\"the list is not empty\")"
      ],
      "execution_count": 14,
      "outputs": [
        {
          "output_type": "stream",
          "text": [
            "the list is empty\n"
          ],
          "name": "stdout"
        }
      ]
    },
    {
      "cell_type": "code",
      "metadata": {
        "id": "sPB55218osbh",
        "colab_type": "code",
        "colab": {
          "base_uri": "https://localhost:8080/",
          "height": 33
        },
        "outputId": "37052ee4-7f38-4047-a8cf-2ffeaab12ea1"
      },
      "source": [
        "def Enquiry(list1):\n",
        "  if not lis1:\n",
        "    return 1\n",
        "  else:\n",
        "    return 0\n",
        "lis1 = [1, 2, 3, 4, 4, 5]\n",
        "if Enquiry(lis1):\n",
        "  print(\"the list is empty\")\n",
        "else:\n",
        "  print(\"the list is not empty\")"
      ],
      "execution_count": 15,
      "outputs": [
        {
          "output_type": "stream",
          "text": [
            "the list is not empty\n"
          ],
          "name": "stdout"
        }
      ]
    },
    {
      "cell_type": "markdown",
      "metadata": {
        "id": "oCs_pdWBo1Cm",
        "colab_type": "text"
      },
      "source": [
        "## 4.program to clone or copy a list"
      ]
    },
    {
      "cell_type": "code",
      "metadata": {
        "id": "sy2kMhdPpMGN",
        "colab_type": "code",
        "colab": {
          "base_uri": "https://localhost:8080/",
          "height": 50
        },
        "outputId": "d74eb473-aa83-4da1-c25f-34d94b7773b5"
      },
      "source": [
        "def Cloning(li1):\n",
        "  li_copy = []\n",
        "  li_copy.extend(li1)\n",
        "  return li_copy\n",
        "li1 = [28, 16, 22, 3, 4, 1]\n",
        "li2 = Cloning(li1)\n",
        "print(\"Original list:\",li1)\n",
        "print(\"After Cloning:\",li2)"
      ],
      "execution_count": 17,
      "outputs": [
        {
          "output_type": "stream",
          "text": [
            "Original list: [28, 16, 22, 3, 4, 1]\n",
            "After Cloning: [28, 16, 22, 3, 4, 1]\n"
          ],
          "name": "stdout"
        }
      ]
    },
    {
      "cell_type": "markdown",
      "metadata": {
        "id": "ReJCPfA7qf1X",
        "colab_type": "text"
      },
      "source": [
        "## 5.Program to print a specified list after removing the 0th,4th and 5th elements"
      ]
    },
    {
      "cell_type": "code",
      "metadata": {
        "id": "DamLKGJfqy7X",
        "colab_type": "code",
        "colab": {
          "base_uri": "https://localhost:8080/",
          "height": 33
        },
        "outputId": "2d295ee5-6a64-445e-a2fd-e78d8ad10842"
      },
      "source": [
        "color = ['Red', 'Green', 'White', 'Black', 'Pink', 'Yellow']\n",
        "color = [x for (i,x) in enumerate(color) if i not in (0,4,5)]\n",
        "print(color)"
      ],
      "execution_count": 25,
      "outputs": [
        {
          "output_type": "stream",
          "text": [
            "['Green', 'White', 'Black']\n"
          ],
          "name": "stdout"
        }
      ]
    },
    {
      "cell_type": "markdown",
      "metadata": {
        "id": "oIpLV9BetOMB",
        "colab_type": "text"
      },
      "source": [
        "## 6.program to print the numbers of a specified list after removing even numbers from it"
      ]
    },
    {
      "cell_type": "code",
      "metadata": {
        "id": "a7PpFB-mtyDP",
        "colab_type": "code",
        "colab": {
          "base_uri": "https://localhost:8080/",
          "height": 33
        },
        "outputId": "d857c6f6-c882-41cf-a5f1-4c7463a6a2d9"
      },
      "source": [
        "num = [35, 27, 28, 3, 2, 16]\n",
        "num = [x for x in num if x%2!=0]\n",
        "print(num)"
      ],
      "execution_count": 23,
      "outputs": [
        {
          "output_type": "stream",
          "text": [
            "[35, 27, 3]\n"
          ],
          "name": "stdout"
        }
      ]
    },
    {
      "cell_type": "markdown",
      "metadata": {
        "id": "Mo_cvDPeuZ1e",
        "colab_type": "text"
      },
      "source": [
        "## 7.program to shuffle and print a specified list"
      ]
    },
    {
      "cell_type": "code",
      "metadata": {
        "id": "NPYdqnp3vFmR",
        "colab_type": "code",
        "colab": {
          "base_uri": "https://localhost:8080/",
          "height": 33
        },
        "outputId": "9e300eae-5416-4e55-ab66-a90299282e78"
      },
      "source": [
        "from random import shuffle\n",
        "color = ['Red', 'Green', 'White', 'Black', 'Pink', 'Yellow']\n",
        "shuffle(color)\n",
        "print(color)"
      ],
      "execution_count": 26,
      "outputs": [
        {
          "output_type": "stream",
          "text": [
            "['Green', 'Yellow', 'Red', 'Black', 'Pink', 'White']\n"
          ],
          "name": "stdout"
        }
      ]
    },
    {
      "cell_type": "markdown",
      "metadata": {
        "id": "jRcS7g45vQyy",
        "colab_type": "text"
      },
      "source": [
        "## 8.program to get the difference between two lists"
      ]
    },
    {
      "cell_type": "code",
      "metadata": {
        "id": "-MESW42avrKV",
        "colab_type": "code",
        "colab": {
          "base_uri": "https://localhost:8080/",
          "height": 268
        },
        "outputId": "28f8827e-1b7e-4051-bd3a-982d60fc4771"
      },
      "source": [
        "def Diff(A, B):\n",
        "  print(\"Difference of two lists ::>\")\n",
        "  return(list(set(A) - set(B)))\n",
        "A=list()\n",
        "n1=int(input(\"Enter the size of the first list ::\"))\n",
        "print(\"Enter the element of first list ::\")\n",
        "for i in range(int(n1)):\n",
        "  k=int(input(\"\"))\n",
        "  A.append(k)\n",
        "B=list()\n",
        "n2=int(input(\"Enter the size of the second list ::\"))\n",
        "print(\"Enter the element of second list ::\")\n",
        "for i in range(int(n2)):\n",
        "  k=int(input(\"\"))\n",
        "  B.append(k)\n",
        "print(Diff(A, B))"
      ],
      "execution_count": 31,
      "outputs": [
        {
          "output_type": "stream",
          "text": [
            "Enter the size of the first list ::5\n",
            "Enter the element of first list ::\n",
            "8\n",
            "4\n",
            "7\n",
            "5\n",
            "6\n",
            "Enter the size of the second list ::4\n",
            "Enter the element of second list ::\n",
            "7\n",
            "5\n",
            "6\n",
            "4\n",
            "Difference of two lists ::>\n",
            "[8]\n"
          ],
          "name": "stdout"
        }
      ]
    }
  ]
}